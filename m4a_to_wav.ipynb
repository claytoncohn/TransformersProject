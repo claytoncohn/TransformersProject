{
  "nbformat": 4,
  "nbformat_minor": 0,
  "metadata": {
    "colab": {
      "provenance": [],
      "collapsed_sections": [],
      "toc_visible": true
    },
    "kernelspec": {
      "name": "python3",
      "display_name": "Python 3"
    },
    "language_info": {
      "name": "python"
    }
  },
  "cells": [
    {
      "cell_type": "markdown",
      "source": [
        "Clayton Cohn <br>\n",
        "14 Nov 2022 <br>\n",
        "DS5899: Transformers <br>\n",
        "Vanderbilt University <br>\n",
        "\n",
        "## <center> .m4a to .wav\n",
        "\n",
        "This notebook converts the raw .m4a audio files recorded in QuickTime to .wav files Wav2Vec2 can process.\n",
        "\n",
        "This notebook was created by Clayton Cohn for his DS5899: Transformers class project on evaluating \"educational\" emotion detection in speech via Audeering."
      ],
      "metadata": {
        "id": "FM06-cfQIMXV"
      }
    },
    {
      "cell_type": "code",
      "execution_count": 1,
      "metadata": {
        "colab": {
          "base_uri": "https://localhost:8080/"
        },
        "outputId": "b24df5f0-11a1-45f1-caa8-e0e6fe583178",
        "id": "5_FWUqgpyPoa"
      },
      "outputs": [
        {
          "output_type": "stream",
          "name": "stdout",
          "text": [
            "Mounted at /content/drive\n"
          ]
        }
      ],
      "source": [
        "from google.colab import drive\n",
        "drive.mount('/content/drive')"
      ]
    },
    {
      "cell_type": "code",
      "source": [
        "AUDIO_PATH = \"drive/My Drive/DS5899_Transformers/m4a/\""
      ],
      "metadata": {
        "id": "TNTuhn2twN3P"
      },
      "execution_count": 2,
      "outputs": []
    },
    {
      "cell_type": "code",
      "source": [
        "from os import listdir\n",
        "from os.path import isfile, join\n",
        "\n",
        "AUDIO_FILES = sorted([f for f in listdir(AUDIO_PATH) \\\n",
        "  if isfile(join(AUDIO_PATH, f))])\n",
        "\n",
        "AUDIO_FILES, len(AUDIO_FILES)"
      ],
      "metadata": {
        "colab": {
          "base_uri": "https://localhost:8080/"
        },
        "id": "d_G_Kq6-wNua",
        "outputId": "8167f843-b1ee-4ccc-89ea-e38657426902"
      },
      "execution_count": 3,
      "outputs": [
        {
          "output_type": "execute_result",
          "data": {
            "text/plain": [
              "(['confusion_0.m4a',\n",
              "  'confusion_1.m4a',\n",
              "  'confusion_2.m4a',\n",
              "  'confusion_3.m4a',\n",
              "  'confusion_4.m4a',\n",
              "  'eureka_0.m4a',\n",
              "  'eureka_1.m4a',\n",
              "  'eureka_2.m4a',\n",
              "  'eureka_3.m4a',\n",
              "  'eureka_4.m4a',\n",
              "  'frustration_0.m4a',\n",
              "  'frustration_1.m4a',\n",
              "  'frustration_2.m4a',\n",
              "  'frustration_3.m4a',\n",
              "  'frustration_4.m4a',\n",
              "  'neutral_0.m4a',\n",
              "  'neutral_1.m4a',\n",
              "  'neutral_2.m4a',\n",
              "  'neutral_3.m4a',\n",
              "  'neutral_4.m4a'],\n",
              " 20)"
            ]
          },
          "metadata": {},
          "execution_count": 3
        }
      ]
    },
    {
      "cell_type": "code",
      "execution_count": 4,
      "metadata": {
        "id": "xqWvZpaK3rtn"
      },
      "outputs": [],
      "source": [
        "!pip install pydub --quiet"
      ]
    },
    {
      "cell_type": "code",
      "execution_count": 5,
      "metadata": {
        "id": "4QFrfMC63-uL"
      },
      "outputs": [],
      "source": [
        "from pydub import AudioSegment"
      ]
    },
    {
      "cell_type": "code",
      "source": [
        "OUT_PATH = \"drive/My Drive/DS5899_Transformers/wav/\""
      ],
      "metadata": {
        "id": "2e8JtspT2SKX"
      },
      "execution_count": 6,
      "outputs": []
    },
    {
      "cell_type": "code",
      "source": [
        "# for seg in AUDIO_FILES:\n",
        "#   track = AudioSegment.from_file(AUDIO_PATH+seg,  format= 'm4a')\n",
        "#   f = seg.split(\".\")[0]+\".wav\"\n",
        "#   track.export(OUT_PATH+f, format='wav')"
      ],
      "metadata": {
        "id": "a5kWOB0T2SRI"
      },
      "execution_count": 7,
      "outputs": []
    }
  ]
}