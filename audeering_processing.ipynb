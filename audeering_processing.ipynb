{
  "nbformat": 4,
  "nbformat_minor": 0,
  "metadata": {
    "colab": {
      "provenance": [],
      "collapsed_sections": [],
      "toc_visible": true
    },
    "kernelspec": {
      "name": "python3",
      "display_name": "Python 3"
    },
    "language_info": {
      "name": "python"
    },
    "accelerator": "GPU",
    "gpuClass": "standard"
  },
  "cells": [
    {
      "cell_type": "markdown",
      "source": [
        "Clayton Cohn <br>\n",
        "14 Nov 2022 <br>\n",
        "DS5899: Transformers <br>\n",
        "Vanderbilt University <br>\n",
        "\n",
        "## <center> Audeering Processing\n",
        "\n",
        "This notebook uses the PyTorch HuggingFace Transformers ```pipeline``` c/o [Audeering](https://huggingface.co/audeering/wav2vec2-large-robust-12-ft-emotion-msp-dim) on HuggingFace. The model classifies audio across three dimensions: arousal, dominance, and valence. The author of this notebook thanks the contributor for making his or her code puplicly available.\n",
        "\n",
        "This notebook was created by Clayton Cohn for his DS5899: Transformers class project on evaluating \"educational\" emotion detection in speech via Audeering."
      ],
      "metadata": {
        "id": "FM06-cfQIMXV"
      }
    },
    {
      "cell_type": "markdown",
      "source": [
        "## Import Data"
      ],
      "metadata": {
        "id": "jp1De9w_yPoS"
      }
    },
    {
      "cell_type": "code",
      "execution_count": 1,
      "metadata": {
        "colab": {
          "base_uri": "https://localhost:8080/"
        },
        "outputId": "9c32d188-1cba-42fe-9fbb-964bb74cfabd",
        "id": "5_FWUqgpyPoa"
      },
      "outputs": [
        {
          "output_type": "stream",
          "name": "stdout",
          "text": [
            "Drive already mounted at /content/drive; to attempt to forcibly remount, call drive.mount(\"/content/drive\", force_remount=True).\n"
          ]
        }
      ],
      "source": [
        "from google.colab import drive\n",
        "drive.mount('/content/drive')"
      ]
    },
    {
      "cell_type": "markdown",
      "source": [
        "### Text"
      ],
      "metadata": {
        "id": "x7zyIGXkU302"
      }
    },
    {
      "cell_type": "code",
      "source": [
        "TEXT_PATH = \"drive/My Drive/DS5899_Transformers/transcriptions.csv\"\n",
        "AUDIO_PATH = \"drive/My Drive/DS5899_Transformers/wav/\""
      ],
      "metadata": {
        "id": "mRs5j6ilyPog"
      },
      "execution_count": 2,
      "outputs": []
    },
    {
      "cell_type": "code",
      "source": [
        "import pandas as pd\n",
        "\n",
        "df = pd.read_csv(TEXT_PATH, header=0).sort_values(by ='file' )\n",
        "df.reset_index(inplace=True, drop=True)\n",
        "df"
      ],
      "metadata": {
        "id": "DoQVKodneevM",
        "colab": {
          "base_uri": "https://localhost:8080/",
          "height": 677
        },
        "outputId": "d2b79d85-d4d3-4805-ea00-38f6c1018b9c"
      },
      "execution_count": 3,
      "outputs": [
        {
          "output_type": "execute_result",
          "data": {
            "text/plain": [
              "                 file                                               text\n",
              "0     confusion_0.wav                This just isn't making sense to me.\n",
              "1     confusion_1.wav                           I'm just not getting it.\n",
              "2     confusion_2.wav          I don't think I understand what you mean.\n",
              "3     confusion_3.wav                            Why won't the code run?\n",
              "4     confusion_4.wav               Wait, so what are you talking about?\n",
              "5        eureka_0.wav                                      Aha, finally!\n",
              "6        eureka_1.wav               Ohhh, yeah that makes so much sense!\n",
              "7        eureka_2.wav                           Of course, now I get it!\n",
              "8        eureka_3.wav                                  That was so easy!\n",
              "9        eureka_4.wav  I can't believe I didn't figure that out earli...\n",
              "10  frustration_0.wav                       Ugh, what is going on here?!\n",
              "11  frustration_1.wav                I don't know why this is happening!\n",
              "12  frustration_2.wav                           This thing is so stupid!\n",
              "13  frustration_3.wav                      Why can't I figure this out?!\n",
              "14  frustration_4.wav                      There's not a bug in my code!\n",
              "15      neutral_0.wav                                          I'm okay.\n",
              "16      neutral_1.wav                            Sure, that makes sense.\n",
              "17      neutral_2.wav                                 I feel ambivalent.\n",
              "18      neutral_3.wav                                  Hmm, interesting.\n",
              "19      neutral_4.wav                                  Yeah, that works."
            ],
            "text/html": [
              "\n",
              "  <div id=\"df-ecc3eb2d-9063-4a4e-ab0b-be38600c3e4b\">\n",
              "    <div class=\"colab-df-container\">\n",
              "      <div>\n",
              "<style scoped>\n",
              "    .dataframe tbody tr th:only-of-type {\n",
              "        vertical-align: middle;\n",
              "    }\n",
              "\n",
              "    .dataframe tbody tr th {\n",
              "        vertical-align: top;\n",
              "    }\n",
              "\n",
              "    .dataframe thead th {\n",
              "        text-align: right;\n",
              "    }\n",
              "</style>\n",
              "<table border=\"1\" class=\"dataframe\">\n",
              "  <thead>\n",
              "    <tr style=\"text-align: right;\">\n",
              "      <th></th>\n",
              "      <th>file</th>\n",
              "      <th>text</th>\n",
              "    </tr>\n",
              "  </thead>\n",
              "  <tbody>\n",
              "    <tr>\n",
              "      <th>0</th>\n",
              "      <td>confusion_0.wav</td>\n",
              "      <td>This just isn't making sense to me.</td>\n",
              "    </tr>\n",
              "    <tr>\n",
              "      <th>1</th>\n",
              "      <td>confusion_1.wav</td>\n",
              "      <td>I'm just not getting it.</td>\n",
              "    </tr>\n",
              "    <tr>\n",
              "      <th>2</th>\n",
              "      <td>confusion_2.wav</td>\n",
              "      <td>I don't think I understand what you mean.</td>\n",
              "    </tr>\n",
              "    <tr>\n",
              "      <th>3</th>\n",
              "      <td>confusion_3.wav</td>\n",
              "      <td>Why won't the code run?</td>\n",
              "    </tr>\n",
              "    <tr>\n",
              "      <th>4</th>\n",
              "      <td>confusion_4.wav</td>\n",
              "      <td>Wait, so what are you talking about?</td>\n",
              "    </tr>\n",
              "    <tr>\n",
              "      <th>5</th>\n",
              "      <td>eureka_0.wav</td>\n",
              "      <td>Aha, finally!</td>\n",
              "    </tr>\n",
              "    <tr>\n",
              "      <th>6</th>\n",
              "      <td>eureka_1.wav</td>\n",
              "      <td>Ohhh, yeah that makes so much sense!</td>\n",
              "    </tr>\n",
              "    <tr>\n",
              "      <th>7</th>\n",
              "      <td>eureka_2.wav</td>\n",
              "      <td>Of course, now I get it!</td>\n",
              "    </tr>\n",
              "    <tr>\n",
              "      <th>8</th>\n",
              "      <td>eureka_3.wav</td>\n",
              "      <td>That was so easy!</td>\n",
              "    </tr>\n",
              "    <tr>\n",
              "      <th>9</th>\n",
              "      <td>eureka_4.wav</td>\n",
              "      <td>I can't believe I didn't figure that out earli...</td>\n",
              "    </tr>\n",
              "    <tr>\n",
              "      <th>10</th>\n",
              "      <td>frustration_0.wav</td>\n",
              "      <td>Ugh, what is going on here?!</td>\n",
              "    </tr>\n",
              "    <tr>\n",
              "      <th>11</th>\n",
              "      <td>frustration_1.wav</td>\n",
              "      <td>I don't know why this is happening!</td>\n",
              "    </tr>\n",
              "    <tr>\n",
              "      <th>12</th>\n",
              "      <td>frustration_2.wav</td>\n",
              "      <td>This thing is so stupid!</td>\n",
              "    </tr>\n",
              "    <tr>\n",
              "      <th>13</th>\n",
              "      <td>frustration_3.wav</td>\n",
              "      <td>Why can't I figure this out?!</td>\n",
              "    </tr>\n",
              "    <tr>\n",
              "      <th>14</th>\n",
              "      <td>frustration_4.wav</td>\n",
              "      <td>There's not a bug in my code!</td>\n",
              "    </tr>\n",
              "    <tr>\n",
              "      <th>15</th>\n",
              "      <td>neutral_0.wav</td>\n",
              "      <td>I'm okay.</td>\n",
              "    </tr>\n",
              "    <tr>\n",
              "      <th>16</th>\n",
              "      <td>neutral_1.wav</td>\n",
              "      <td>Sure, that makes sense.</td>\n",
              "    </tr>\n",
              "    <tr>\n",
              "      <th>17</th>\n",
              "      <td>neutral_2.wav</td>\n",
              "      <td>I feel ambivalent.</td>\n",
              "    </tr>\n",
              "    <tr>\n",
              "      <th>18</th>\n",
              "      <td>neutral_3.wav</td>\n",
              "      <td>Hmm, interesting.</td>\n",
              "    </tr>\n",
              "    <tr>\n",
              "      <th>19</th>\n",
              "      <td>neutral_4.wav</td>\n",
              "      <td>Yeah, that works.</td>\n",
              "    </tr>\n",
              "  </tbody>\n",
              "</table>\n",
              "</div>\n",
              "      <button class=\"colab-df-convert\" onclick=\"convertToInteractive('df-ecc3eb2d-9063-4a4e-ab0b-be38600c3e4b')\"\n",
              "              title=\"Convert this dataframe to an interactive table.\"\n",
              "              style=\"display:none;\">\n",
              "        \n",
              "  <svg xmlns=\"http://www.w3.org/2000/svg\" height=\"24px\"viewBox=\"0 0 24 24\"\n",
              "       width=\"24px\">\n",
              "    <path d=\"M0 0h24v24H0V0z\" fill=\"none\"/>\n",
              "    <path d=\"M18.56 5.44l.94 2.06.94-2.06 2.06-.94-2.06-.94-.94-2.06-.94 2.06-2.06.94zm-11 1L8.5 8.5l.94-2.06 2.06-.94-2.06-.94L8.5 2.5l-.94 2.06-2.06.94zm10 10l.94 2.06.94-2.06 2.06-.94-2.06-.94-.94-2.06-.94 2.06-2.06.94z\"/><path d=\"M17.41 7.96l-1.37-1.37c-.4-.4-.92-.59-1.43-.59-.52 0-1.04.2-1.43.59L10.3 9.45l-7.72 7.72c-.78.78-.78 2.05 0 2.83L4 21.41c.39.39.9.59 1.41.59.51 0 1.02-.2 1.41-.59l7.78-7.78 2.81-2.81c.8-.78.8-2.07 0-2.86zM5.41 20L4 18.59l7.72-7.72 1.47 1.35L5.41 20z\"/>\n",
              "  </svg>\n",
              "      </button>\n",
              "      \n",
              "  <style>\n",
              "    .colab-df-container {\n",
              "      display:flex;\n",
              "      flex-wrap:wrap;\n",
              "      gap: 12px;\n",
              "    }\n",
              "\n",
              "    .colab-df-convert {\n",
              "      background-color: #E8F0FE;\n",
              "      border: none;\n",
              "      border-radius: 50%;\n",
              "      cursor: pointer;\n",
              "      display: none;\n",
              "      fill: #1967D2;\n",
              "      height: 32px;\n",
              "      padding: 0 0 0 0;\n",
              "      width: 32px;\n",
              "    }\n",
              "\n",
              "    .colab-df-convert:hover {\n",
              "      background-color: #E2EBFA;\n",
              "      box-shadow: 0px 1px 2px rgba(60, 64, 67, 0.3), 0px 1px 3px 1px rgba(60, 64, 67, 0.15);\n",
              "      fill: #174EA6;\n",
              "    }\n",
              "\n",
              "    [theme=dark] .colab-df-convert {\n",
              "      background-color: #3B4455;\n",
              "      fill: #D2E3FC;\n",
              "    }\n",
              "\n",
              "    [theme=dark] .colab-df-convert:hover {\n",
              "      background-color: #434B5C;\n",
              "      box-shadow: 0px 1px 3px 1px rgba(0, 0, 0, 0.15);\n",
              "      filter: drop-shadow(0px 1px 2px rgba(0, 0, 0, 0.3));\n",
              "      fill: #FFFFFF;\n",
              "    }\n",
              "  </style>\n",
              "\n",
              "      <script>\n",
              "        const buttonEl =\n",
              "          document.querySelector('#df-ecc3eb2d-9063-4a4e-ab0b-be38600c3e4b button.colab-df-convert');\n",
              "        buttonEl.style.display =\n",
              "          google.colab.kernel.accessAllowed ? 'block' : 'none';\n",
              "\n",
              "        async function convertToInteractive(key) {\n",
              "          const element = document.querySelector('#df-ecc3eb2d-9063-4a4e-ab0b-be38600c3e4b');\n",
              "          const dataTable =\n",
              "            await google.colab.kernel.invokeFunction('convertToInteractive',\n",
              "                                                     [key], {});\n",
              "          if (!dataTable) return;\n",
              "\n",
              "          const docLinkHtml = 'Like what you see? Visit the ' +\n",
              "            '<a target=\"_blank\" href=https://colab.research.google.com/notebooks/data_table.ipynb>data table notebook</a>'\n",
              "            + ' to learn more about interactive tables.';\n",
              "          element.innerHTML = '';\n",
              "          dataTable['output_type'] = 'display_data';\n",
              "          await google.colab.output.renderOutput(dataTable, element);\n",
              "          const docLink = document.createElement('div');\n",
              "          docLink.innerHTML = docLinkHtml;\n",
              "          element.appendChild(docLink);\n",
              "        }\n",
              "      </script>\n",
              "    </div>\n",
              "  </div>\n",
              "  "
            ]
          },
          "metadata": {},
          "execution_count": 3
        }
      ]
    },
    {
      "cell_type": "markdown",
      "source": [
        "### Audio"
      ],
      "metadata": {
        "id": "L_UeMr2RzOJs"
      }
    },
    {
      "cell_type": "code",
      "source": [
        "from os import listdir\n",
        "from os.path import isfile, join\n",
        "\n",
        "AUDIO_FILES = sorted([f for f in listdir(AUDIO_PATH) \\\n",
        "  if isfile(join(AUDIO_PATH, f))])\n",
        "\n",
        "AUDIO_FILES, len(AUDIO_FILES)"
      ],
      "metadata": {
        "colab": {
          "base_uri": "https://localhost:8080/"
        },
        "id": "Ny6ZwlE6SSgb",
        "outputId": "938f7db3-ece0-4ee4-ac73-c2f679df445b"
      },
      "execution_count": 4,
      "outputs": [
        {
          "output_type": "execute_result",
          "data": {
            "text/plain": [
              "(['confusion_0.wav',\n",
              "  'confusion_1.wav',\n",
              "  'confusion_2.wav',\n",
              "  'confusion_3.wav',\n",
              "  'confusion_4.wav',\n",
              "  'eureka_0.wav',\n",
              "  'eureka_1.wav',\n",
              "  'eureka_2.wav',\n",
              "  'eureka_3.wav',\n",
              "  'eureka_4.wav',\n",
              "  'frustration_0.wav',\n",
              "  'frustration_1.wav',\n",
              "  'frustration_2.wav',\n",
              "  'frustration_3.wav',\n",
              "  'frustration_4.wav',\n",
              "  'neutral_0.wav',\n",
              "  'neutral_1.wav',\n",
              "  'neutral_2.wav',\n",
              "  'neutral_3.wav',\n",
              "  'neutral_4.wav'],\n",
              " 20)"
            ]
          },
          "metadata": {},
          "execution_count": 4
        }
      ]
    },
    {
      "cell_type": "code",
      "source": [
        "assert list(df[\"file\"]) == AUDIO_FILES"
      ],
      "metadata": {
        "id": "gKLUN96FTSa9"
      },
      "execution_count": 5,
      "outputs": []
    },
    {
      "cell_type": "markdown",
      "metadata": {
        "id": "sTY01WBk8JT4"
      },
      "source": [
        "## Prepare Environment"
      ]
    },
    {
      "cell_type": "code",
      "execution_count": 6,
      "metadata": {
        "id": "xqWvZpaK3rtn"
      },
      "outputs": [],
      "source": [
        "!pip install torch --quiet\n",
        "!pip install transformers --quiet\n",
        "!pip install torchaudio --quiet\n",
        "!pip install librosa --quiet\n",
        "!pip install pydub --quiet"
      ]
    },
    {
      "cell_type": "code",
      "execution_count": 7,
      "metadata": {
        "id": "4QFrfMC63-uL"
      },
      "outputs": [],
      "source": [
        "import numpy as np\n",
        "import torch\n",
        "import torch.nn as nn\n",
        "from transformers import Wav2Vec2Processor\n",
        "from transformers.models.wav2vec2.modeling_wav2vec2 import (\n",
        "    Wav2Vec2Model,\n",
        "    Wav2Vec2PreTrainedModel,\n",
        ")\n",
        "import torchaudio\n",
        "from pydub import AudioSegment\n",
        "from pydub.silence import split_on_silence\n",
        "import pandas as pd\n",
        "import IPython.display as ipd\n",
        "import librosa"
      ]
    },
    {
      "cell_type": "markdown",
      "metadata": {
        "id": "bLxAZyEofnEW"
      },
      "source": [
        "## Set Up Model"
      ]
    },
    {
      "cell_type": "markdown",
      "metadata": {
        "id": "P-bfF63Gevgl"
      },
      "source": [
        "The ```RegressionHead``` stacks on top of the Transformer to output magnitude ranges, normalized to be between 0 and 1, for the dimensions, arousal, dominance, and valence. "
      ]
    },
    {
      "cell_type": "code",
      "execution_count": 8,
      "metadata": {
        "id": "8ys17fWY4Bf0"
      },
      "outputs": [],
      "source": [
        "class RegressionHead(nn.Module):\n",
        "    r\"\"\"Classification head.\"\"\"\n",
        "\n",
        "    def __init__(self, config):\n",
        "\n",
        "        super().__init__()\n",
        "\n",
        "        self.dense = nn.Linear(config.hidden_size, config.hidden_size)\n",
        "        self.dropout = nn.Dropout(config.final_dropout)\n",
        "        self.out_proj = nn.Linear(config.hidden_size, config.num_labels)\n",
        "\n",
        "    def forward(self, features, **kwargs):\n",
        "\n",
        "        x = features\n",
        "        x = self.dropout(x)\n",
        "        x = self.dense(x)\n",
        "        x = torch.tanh(x)\n",
        "        x = self.dropout(x)\n",
        "        x = self.out_proj(x)\n",
        "\n",
        "        return x"
      ]
    },
    {
      "cell_type": "markdown",
      "metadata": {
        "id": "d0ClItmQfYLi"
      },
      "source": [
        "```EmotionModel``` is the pretrained Wav2Vec2 model with the regression head on top."
      ]
    },
    {
      "cell_type": "code",
      "execution_count": 9,
      "metadata": {
        "id": "eQ0drBZS4Fpm"
      },
      "outputs": [],
      "source": [
        "class EmotionModel(Wav2Vec2PreTrainedModel):\n",
        "    r\"\"\"Speech emotion classifier.\"\"\"\n",
        "\n",
        "    def __init__(self, config):\n",
        "\n",
        "        super().__init__(config)\n",
        "\n",
        "        self.config = config\n",
        "        self.wav2vec2 = Wav2Vec2Model(config)\n",
        "        self.classifier = RegressionHead(config)\n",
        "        self.init_weights()\n",
        "\n",
        "    def forward(\n",
        "            self,\n",
        "            input_values,\n",
        "    ):\n",
        "\n",
        "        outputs = self.wav2vec2(input_values)\n",
        "        hidden_states = outputs[0]\n",
        "        hidden_states = torch.mean(hidden_states, dim=1)\n",
        "        logits = self.classifier(hidden_states)\n",
        "\n",
        "        return hidden_states, logits"
      ]
    },
    {
      "cell_type": "markdown",
      "metadata": {
        "id": "q4N3VgTof1UO"
      },
      "source": [
        "We will now prepare to instantiate the model. \n",
        "\n",
        "The ```DEVICE``` constant is our device (either cpu or gpu). \n",
        "\n",
        "The ```MODEL_NAME``` is the fine-tuned model from the HuggingFace hub.\n",
        "\n",
        "The ```PROCESSOR``` is the Wav2Vec2 processor that wraps the feature extractor and tokenizer. "
      ]
    },
    {
      "cell_type": "code",
      "execution_count": 10,
      "metadata": {
        "colab": {
          "base_uri": "https://localhost:8080/"
        },
        "id": "0oqpW_Mj6i0u",
        "outputId": "7bf1d64a-1e39-46fe-9814-7811309958fc"
      },
      "outputs": [
        {
          "output_type": "stream",
          "name": "stderr",
          "text": [
            "Special tokens have been added in the vocabulary, make sure the associated word embeddings are fine-tuned or trained.\n"
          ]
        }
      ],
      "source": [
        "DEVICE = torch.device(\"cuda\" if torch.cuda.is_available() else \"cpu\")\n",
        "# DEVICE = torch.device(\"cpu\")\n",
        "\n",
        "MODEL_NAME = 'audeering/wav2vec2-large-robust-12-ft-emotion-msp-dim'\n",
        "\n",
        "PROCESSOR = Wav2Vec2Processor.from_pretrained(MODEL_NAME)"
      ]
    },
    {
      "cell_type": "markdown",
      "metadata": {
        "id": "rmy9AoWWhZAm"
      },
      "source": [
        "Instantiate the model with the fine-tuned Audeering model, and transfer it to the CPU if we have one."
      ]
    },
    {
      "cell_type": "code",
      "execution_count": 11,
      "metadata": {
        "id": "NNjRDanr6qnJ"
      },
      "outputs": [],
      "source": [
        "model = EmotionModel.from_pretrained(MODEL_NAME)\n",
        "model.to(DEVICE);"
      ]
    },
    {
      "cell_type": "markdown",
      "metadata": {
        "id": "5SbhEfDTheO9"
      },
      "source": [
        "## Prep for Processing"
      ]
    },
    {
      "cell_type": "markdown",
      "metadata": {
        "id": "vAoWNfIOh1un"
      },
      "source": [
        "Define the ```SAMPLING_RATE``` constant. Wav2Vec2 requires, 16000."
      ]
    },
    {
      "cell_type": "code",
      "execution_count": 12,
      "metadata": {
        "id": "Y3CAp2Sp5VDN"
      },
      "outputs": [],
      "source": [
        "SAMPLING_RATE = 16000"
      ]
    },
    {
      "cell_type": "markdown",
      "metadata": {
        "id": "QH_kNaP-mGSF"
      },
      "source": [
        "Test that the shape is correct by using ```librosa``` to import one of our chunks and making it an np.array for Wav2Vec2."
      ]
    },
    {
      "cell_type": "code",
      "execution_count": 13,
      "metadata": {
        "colab": {
          "base_uri": "https://localhost:8080/"
        },
        "id": "PDh7Cv_y62zT",
        "outputId": "ec3ceffc-8db3-4775-90cb-0ad46e769ce5"
      },
      "outputs": [
        {
          "output_type": "execute_result",
          "data": {
            "text/plain": [
              "(1, 33977)"
            ]
          },
          "metadata": {},
          "execution_count": 13
        }
      ],
      "source": [
        "test_audio, _ = librosa.load(AUDIO_PATH+AUDIO_FILES[0], sr = 16000)\n",
        "test_audio = np.array([test_audio])\n",
        "test_audio.shape"
      ]
    },
    {
      "cell_type": "code",
      "source": [
        "test_audio"
      ],
      "metadata": {
        "colab": {
          "base_uri": "https://localhost:8080/"
        },
        "id": "aNl9Vlc-vhWE",
        "outputId": "45a8820f-4b2b-432a-f915-c1e08ae2eb86"
      },
      "execution_count": 14,
      "outputs": [
        {
          "output_type": "execute_result",
          "data": {
            "text/plain": [
              "array([[1.0534357e-04, 6.1323291e-05, 4.7091438e-05, ..., 6.3422631e-04,\n",
              "        5.4774678e-04, 0.0000000e+00]], dtype=float32)"
            ]
          },
          "metadata": {},
          "execution_count": 14
        }
      ]
    },
    {
      "cell_type": "markdown",
      "metadata": {
        "id": "6oCdSziRmRB6"
      },
      "source": [
        "Define the processing function that will run the instances through the model."
      ]
    },
    {
      "cell_type": "code",
      "execution_count": 15,
      "metadata": {
        "id": "tgdnVvH_622K"
      },
      "outputs": [],
      "source": [
        "def process(\n",
        "    x: np.ndarray,\n",
        "    sampling_rate: int,\n",
        "    embeddings: bool = False,) -> np.ndarray:\n",
        "    r\"\"\"Predict emotions or extract embeddings from raw audio signal.\"\"\"\n",
        "\n",
        "    # run through processor to normalize signal\n",
        "    # always returns a batch, so we just get the first entry\n",
        "    # then we put it on the device\n",
        "    y = PROCESSOR(x, sampling_rate=SAMPLING_RATE)\n",
        "    y = y['input_values'][0]\n",
        "    y = torch.from_numpy(y).to(DEVICE)\n",
        "\n",
        "    # run through model\n",
        "    with torch.no_grad():\n",
        "        y = model(y)[0 if embeddings else 1]\n",
        "\n",
        "    # convert to numpy\n",
        "    y = y.detach().cpu().numpy()\n",
        "\n",
        "    return y"
      ]
    },
    {
      "cell_type": "markdown",
      "metadata": {
        "id": "sWc0oAbsmWJp"
      },
      "source": [
        "Test the processing function."
      ]
    },
    {
      "cell_type": "code",
      "execution_count": 16,
      "metadata": {
        "colab": {
          "base_uri": "https://localhost:8080/"
        },
        "id": "b4N4WYKzNkmc",
        "outputId": "34e6b85b-34ae-44d7-9673-2138d0480e8c"
      },
      "outputs": [
        {
          "output_type": "execute_result",
          "data": {
            "text/plain": [
              "array([[0.49106094, 0.5793368 , 0.1995954 ]], dtype=float32)"
            ]
          },
          "metadata": {},
          "execution_count": 16
        }
      ],
      "source": [
        "process(test_audio, SAMPLING_RATE, embeddings=False)"
      ]
    },
    {
      "cell_type": "markdown",
      "metadata": {
        "id": "Kgta-K7HmcFs"
      },
      "source": [
        "## Process Audio\n",
        "\n",
        "Put all the audio through the processor and put it in an array to later use in a DataFrame."
      ]
    },
    {
      "cell_type": "code",
      "source": [
        "def predict_adv(path, files, rate):\n",
        "  # file_name, audio, arousal, dominance, valence\n",
        "  arr = [[\"file_name\", \"audio\", \"arousal\", \"dominance\", \"valence\"]]\n",
        "\n",
        "  for i in range(len(files)):\n",
        "    fil = files[i]\n",
        "    audio = AudioSegment.from_wav(path+fil)\n",
        "    audio = audio.set_frame_rate(rate)\n",
        "    audio_arr, _ = librosa.load(path+fil, sr = rate)\n",
        "    audio_arr = np.array([audio_arr])\n",
        "    arousal, dominance, valence = process(audio_arr, rate, \\\n",
        "                                          embeddings=False)[0]\n",
        "    a = [fil, audio, arousal, dominance, valence]\n",
        "    arr.append(a)\n",
        "\n",
        "  # Prints final row\n",
        "  print(fil, f\"\\narousal: {arousal},\", f\"dominance: {dominance},\", \\\n",
        "        f\"valence: {valence}\")\n",
        "  return arr"
      ],
      "metadata": {
        "id": "A4W7WK7_zVNW"
      },
      "execution_count": 17,
      "outputs": []
    },
    {
      "cell_type": "markdown",
      "source": [
        "Process the audio from both clips."
      ],
      "metadata": {
        "id": "1__QCNei2O7Q"
      }
    },
    {
      "cell_type": "code",
      "source": [
        "arr = predict_adv(AUDIO_PATH, AUDIO_FILES, SAMPLING_RATE)"
      ],
      "metadata": {
        "colab": {
          "base_uri": "https://localhost:8080/"
        },
        "id": "T28TtAQ5z6Ss",
        "outputId": "2660f5f9-ba7e-4504-8096-d27738f4929f"
      },
      "execution_count": 18,
      "outputs": [
        {
          "output_type": "stream",
          "name": "stdout",
          "text": [
            "neutral_4.wav \n",
            "arousal: 0.4385491609573364, dominance: 0.5383925437927246, valence: 0.5630528330802917\n"
          ]
        }
      ]
    },
    {
      "cell_type": "markdown",
      "metadata": {
        "id": "WuGVllv7nBlH"
      },
      "source": [
        "Put everything into DataFrames."
      ]
    },
    {
      "cell_type": "code",
      "execution_count": 19,
      "metadata": {
        "colab": {
          "base_uri": "https://localhost:8080/",
          "height": 81
        },
        "id": "QierKVa1ZBqs",
        "outputId": "5565eb64-72f2-468e-ca0e-ce5701e7d87e"
      },
      "outputs": [
        {
          "output_type": "execute_result",
          "data": {
            "text/plain": [
              "         file_name                                              audio  \\\n",
              "0  confusion_0.wav  (((<pydub.audio_segment.AudioSegment object at...   \n",
              "\n",
              "    arousal  dominance   valence  \n",
              "0  0.491061   0.579337  0.199595  "
            ],
            "text/html": [
              "\n",
              "  <div id=\"df-19e804a2-fb64-4e8b-a654-f50edab35202\">\n",
              "    <div class=\"colab-df-container\">\n",
              "      <div>\n",
              "<style scoped>\n",
              "    .dataframe tbody tr th:only-of-type {\n",
              "        vertical-align: middle;\n",
              "    }\n",
              "\n",
              "    .dataframe tbody tr th {\n",
              "        vertical-align: top;\n",
              "    }\n",
              "\n",
              "    .dataframe thead th {\n",
              "        text-align: right;\n",
              "    }\n",
              "</style>\n",
              "<table border=\"1\" class=\"dataframe\">\n",
              "  <thead>\n",
              "    <tr style=\"text-align: right;\">\n",
              "      <th></th>\n",
              "      <th>file_name</th>\n",
              "      <th>audio</th>\n",
              "      <th>arousal</th>\n",
              "      <th>dominance</th>\n",
              "      <th>valence</th>\n",
              "    </tr>\n",
              "  </thead>\n",
              "  <tbody>\n",
              "    <tr>\n",
              "      <th>0</th>\n",
              "      <td>confusion_0.wav</td>\n",
              "      <td>(((&lt;pydub.audio_segment.AudioSegment object at...</td>\n",
              "      <td>0.491061</td>\n",
              "      <td>0.579337</td>\n",
              "      <td>0.199595</td>\n",
              "    </tr>\n",
              "  </tbody>\n",
              "</table>\n",
              "</div>\n",
              "      <button class=\"colab-df-convert\" onclick=\"convertToInteractive('df-19e804a2-fb64-4e8b-a654-f50edab35202')\"\n",
              "              title=\"Convert this dataframe to an interactive table.\"\n",
              "              style=\"display:none;\">\n",
              "        \n",
              "  <svg xmlns=\"http://www.w3.org/2000/svg\" height=\"24px\"viewBox=\"0 0 24 24\"\n",
              "       width=\"24px\">\n",
              "    <path d=\"M0 0h24v24H0V0z\" fill=\"none\"/>\n",
              "    <path d=\"M18.56 5.44l.94 2.06.94-2.06 2.06-.94-2.06-.94-.94-2.06-.94 2.06-2.06.94zm-11 1L8.5 8.5l.94-2.06 2.06-.94-2.06-.94L8.5 2.5l-.94 2.06-2.06.94zm10 10l.94 2.06.94-2.06 2.06-.94-2.06-.94-.94-2.06-.94 2.06-2.06.94z\"/><path d=\"M17.41 7.96l-1.37-1.37c-.4-.4-.92-.59-1.43-.59-.52 0-1.04.2-1.43.59L10.3 9.45l-7.72 7.72c-.78.78-.78 2.05 0 2.83L4 21.41c.39.39.9.59 1.41.59.51 0 1.02-.2 1.41-.59l7.78-7.78 2.81-2.81c.8-.78.8-2.07 0-2.86zM5.41 20L4 18.59l7.72-7.72 1.47 1.35L5.41 20z\"/>\n",
              "  </svg>\n",
              "      </button>\n",
              "      \n",
              "  <style>\n",
              "    .colab-df-container {\n",
              "      display:flex;\n",
              "      flex-wrap:wrap;\n",
              "      gap: 12px;\n",
              "    }\n",
              "\n",
              "    .colab-df-convert {\n",
              "      background-color: #E8F0FE;\n",
              "      border: none;\n",
              "      border-radius: 50%;\n",
              "      cursor: pointer;\n",
              "      display: none;\n",
              "      fill: #1967D2;\n",
              "      height: 32px;\n",
              "      padding: 0 0 0 0;\n",
              "      width: 32px;\n",
              "    }\n",
              "\n",
              "    .colab-df-convert:hover {\n",
              "      background-color: #E2EBFA;\n",
              "      box-shadow: 0px 1px 2px rgba(60, 64, 67, 0.3), 0px 1px 3px 1px rgba(60, 64, 67, 0.15);\n",
              "      fill: #174EA6;\n",
              "    }\n",
              "\n",
              "    [theme=dark] .colab-df-convert {\n",
              "      background-color: #3B4455;\n",
              "      fill: #D2E3FC;\n",
              "    }\n",
              "\n",
              "    [theme=dark] .colab-df-convert:hover {\n",
              "      background-color: #434B5C;\n",
              "      box-shadow: 0px 1px 3px 1px rgba(0, 0, 0, 0.15);\n",
              "      filter: drop-shadow(0px 1px 2px rgba(0, 0, 0, 0.3));\n",
              "      fill: #FFFFFF;\n",
              "    }\n",
              "  </style>\n",
              "\n",
              "      <script>\n",
              "        const buttonEl =\n",
              "          document.querySelector('#df-19e804a2-fb64-4e8b-a654-f50edab35202 button.colab-df-convert');\n",
              "        buttonEl.style.display =\n",
              "          google.colab.kernel.accessAllowed ? 'block' : 'none';\n",
              "\n",
              "        async function convertToInteractive(key) {\n",
              "          const element = document.querySelector('#df-19e804a2-fb64-4e8b-a654-f50edab35202');\n",
              "          const dataTable =\n",
              "            await google.colab.kernel.invokeFunction('convertToInteractive',\n",
              "                                                     [key], {});\n",
              "          if (!dataTable) return;\n",
              "\n",
              "          const docLinkHtml = 'Like what you see? Visit the ' +\n",
              "            '<a target=\"_blank\" href=https://colab.research.google.com/notebooks/data_table.ipynb>data table notebook</a>'\n",
              "            + ' to learn more about interactive tables.';\n",
              "          element.innerHTML = '';\n",
              "          dataTable['output_type'] = 'display_data';\n",
              "          await google.colab.output.renderOutput(dataTable, element);\n",
              "          const docLink = document.createElement('div');\n",
              "          docLink.innerHTML = docLinkHtml;\n",
              "          element.appendChild(docLink);\n",
              "        }\n",
              "      </script>\n",
              "    </div>\n",
              "  </div>\n",
              "  "
            ]
          },
          "metadata": {},
          "execution_count": 19
        }
      ],
      "source": [
        "df_audio = pd.DataFrame(data=arr[1:], columns=arr[0])\n",
        "df_audio.head(1)"
      ]
    },
    {
      "cell_type": "markdown",
      "metadata": {
        "id": "l5jHYM4snE_j"
      },
      "source": [
        "## Display\n",
        "\n",
        "Display everything using iPython."
      ]
    },
    {
      "cell_type": "code",
      "execution_count": 20,
      "metadata": {
        "colab": {
          "base_uri": "https://localhost:8080/",
          "height": 1000
        },
        "id": "qse0ylxPaIJE",
        "outputId": "4807b7e5-2eac-4220-a258-68af2d0d1efd"
      },
      "outputs": [
        {
          "output_type": "display_data",
          "data": {
            "text/plain": [
              "<IPython.core.display.HTML object>"
            ],
            "text/html": [
              "<table border=\"1\" class=\"dataframe\">\n",
              "  <thead>\n",
              "    <tr style=\"text-align: right;\">\n",
              "      <th>file_name</th>\n",
              "      <th>audio</th>\n",
              "      <th>arousal</th>\n",
              "      <th>dominance</th>\n",
              "      <th>valence</th>\n",
              "    </tr>\n",
              "  </thead>\n",
              "  <tbody>\n",
              "    <tr>\n",
              "      <td>confusion_0.wav</td>\n",
              "      <td><audio controls>                        <source src=\"data:audio/mpeg;base64,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\" type=\"audio/mpeg\"/>                        Your browser does not support the audio element.                    </audio></td>\n",
              "      <td>0.491061</td>\n",
              "      <td>0.579337</td>\n",
              "      <td>0.199595</td>\n",
              "    </tr>\n",
              "    <tr>\n",
              "      <td>confusion_1.wav</td>\n",
              "      <td><audio controls>                        <source src=\"data:audio/mpeg;base64,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\" type=\"audio/mpeg\"/>                        Your browser does not support the audio element.                    </audio></td>\n",
              "      <td>0.496632</td>\n",
              "      <td>0.564744</td>\n",
              "      <td>0.250415</td>\n",
              "    </tr>\n",
              "    <tr>\n",
              "      <td>confusion_2.wav</td>\n",
              "      <td><audio controls>                        <source src=\"data:audio/mpeg;base64,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\" type=\"audio/mpeg\"/>                        Your browser does not support the audio element.                    </audio></td>\n",
              "      <td>0.340029</td>\n",
              "      <td>0.463059</td>\n",
              "      <td>0.223187</td>\n",
              "    </tr>\n",
              "    <tr>\n",
              "      <td>confusion_3.wav</td>\n",
              "      <td><audio controls>                        <source src=\"data:audio/mpeg;base64,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\" type=\"audio/mpeg\"/>                        Your browser does not support the audio element.                    </audio></td>\n",
              "      <td>0.476211</td>\n",
              "      <td>0.533171</td>\n",
              "      <td>0.327067</td>\n",
              "    </tr>\n",
              "    <tr>\n",
              "      <td>confusion_4.wav</td>\n",
              "      <td><audio controls>                        <source src=\"data:audio/mpeg;base64,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\" type=\"audio/mpeg\"/>                        Your browser does not support the audio element.                    </audio></td>\n",
              "      <td>0.452598</td>\n",
              "      <td>0.498192</td>\n",
              "      <td>0.518139</td>\n",
              "    </tr>\n",
              "    <tr>\n",
              "      <td>eureka_0.wav</td>\n",
              "      <td><audio controls>                        <source src=\"data:audio/mpeg;base64,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\" type=\"audio/mpeg\"/>                        Your browser does not support the audio element.                    </audio></td>\n",
              "      <td>0.779292</td>\n",
              "      <td>0.827495</td>\n",
              "      <td>0.942782</td>\n",
              "    </tr>\n",
              "    <tr>\n",
              "      <td>eureka_1.wav</td>\n",
              "      <td><audio controls>                        <source src=\"data:audio/mpeg;base64,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\" type=\"audio/mpeg\"/>                        Your browser does not support the audio element.                    </audio></td>\n",
              "      <td>0.614347</td>\n",
              "      <td>0.624977</td>\n",
              "      <td>0.468896</td>\n",
              "    </tr>\n",
              "    <tr>\n",
              "      <td>eureka_2.wav</td>\n",
              "      <td><audio controls>                        <source src=\"data:audio/mpeg;base64,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\" type=\"audio/mpeg\"/>                        Your browser does not support the audio element.                    </audio></td>\n",
              "      <td>0.594661</td>\n",
              "      <td>0.659573</td>\n",
              "      <td>0.474535</td>\n",
              "    </tr>\n",
              "    <tr>\n",
              "      <td>eureka_3.wav</td>\n",
              "      <td><audio controls>                        <source src=\"data:audio/mpeg;base64,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\" type=\"audio/mpeg\"/>                        Your browser does not support the audio element.                    </audio></td>\n",
              "      <td>0.732855</td>\n",
              "      <td>0.750316</td>\n",
              "      <td>0.576097</td>\n",
              "    </tr>\n",
              "    <tr>\n",
              "      <td>eureka_4.wav</td>\n",
              "      <td><audio controls>                        <source src=\"data:audio/mpeg;base64,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\" type=\"audio/mpeg\"/>                        Your browser does not support the audio element.                    </audio></td>\n",
              "      <td>0.644227</td>\n",
              "      <td>0.692528</td>\n",
              "      <td>0.307335</td>\n",
              "    </tr>\n",
              "    <tr>\n",
              "      <td>frustration_0.wav</td>\n",
              "      <td><audio controls>                        <source src=\"data:audio/mpeg;base64,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\" type=\"audio/mpeg\"/>                        Your browser does not support the audio element.                    </audio></td>\n",
              "      <td>0.602840</td>\n",
              "      <td>0.632980</td>\n",
              "      <td>0.336647</td>\n",
              "    </tr>\n",
              "    <tr>\n",
              "      <td>frustration_1.wav</td>\n",
              "      <td><audio controls>                        <source src=\"data:audio/mpeg;base64,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\" type=\"audio/mpeg\"/>                        Your browser does not support the audio element.                    </audio></td>\n",
              "      <td>0.769080</td>\n",
              "      <td>0.785554</td>\n",
              "      <td>0.079431</td>\n",
              "    </tr>\n",
              "    <tr>\n",
              "      <td>frustration_2.wav</td>\n",
              "      <td><audio controls>                        <source src=\"data:audio/mpeg;base64,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\" type=\"audio/mpeg\"/>                        Your browser does not support the audio element.                    </audio></td>\n",
              "      <td>0.767750</td>\n",
              "      <td>0.817618</td>\n",
              "      <td>-0.037478</td>\n",
              "    </tr>\n",
              "    <tr>\n",
              "      <td>frustration_3.wav</td>\n",
              "      <td><audio controls>                        <source src=\"data:audio/mpeg;base64,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\" type=\"audio/mpeg\"/>                        Your browser does not support the audio element.                    </audio></td>\n",
              "      <td>0.787266</td>\n",
              "      <td>0.793390</td>\n",
              "      <td>0.289535</td>\n",
              "    </tr>\n",
              "    <tr>\n",
              "      <td>frustration_4.wav</td>\n",
              "      <td><audio controls>                        <source src=\"data:audio/mpeg;base64,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\" type=\"audio/mpeg\"/>                        Your browser does not support the audio element.                    </audio></td>\n",
              "      <td>0.821397</td>\n",
              "      <td>0.844301</td>\n",
              "      <td>0.094211</td>\n",
              "    </tr>\n",
              "    <tr>\n",
              "      <td>neutral_0.wav</td>\n",
              "      <td><audio controls>                        <source src=\"data:audio/mpeg;base64,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\" type=\"audio/mpeg\"/>                        Your browser does not support the audio element.                    </audio></td>\n",
              "      <td>0.449995</td>\n",
              "      <td>0.490016</td>\n",
              "      <td>0.674121</td>\n",
              "    </tr>\n",
              "    <tr>\n",
              "      <td>neutral_1.wav</td>\n",
              "      <td><audio controls>                        <source src=\"data:audio/mpeg;base64,SUQzBAAAAAAAI1RTU0UAAAAPAAADTGF2ZjU3LjgzLjEwMAAAAAAAAAAAAAAA//NYAAAAAAAAAAAAAAAAAAAAAAAASW5mbwAAAA8AAAAsAAAl1AAKChAQFRUbGxshIScnLCwyMjI4OD09Q0NJSUlOTlRUWlpaYGBlZWtrcXFxdnZ8fIKCiIiIjY2Tk5mZmZ6epKSqqrCwsLW1u7vBwcbGxszM0tLY2Njd3ePj6enu7u709Pr6//8AAAAATGF2YzU3LjEwAAAAAAAAAAAAAAAAJAPMAAAAAAAAJdTHnKhWAAAA//NoZAANGZMKUSAjrgAAA0gAAAAACEY7i5QoSCsRxcf8U4uPe5LtESpe5fipRK4QxEe8xvjG8b/ACOAAFADyABTcHIAAZ/jGPyBH4xvkAxjyAAAFuY4xuNxjGNgwRjjcxjHABEhjN9+Y3ocWOdqAAIDAQWf4gJlwfPl3/E+tpAAi+j61uXeE8frzP75f/9f/+dOda8QuZEZOdhOXXOF0nYAJ38AJ3NP36yfmWf+e73uhACEQSyepP2IWkS9jmIl8FX9MgiVzCCHOmACTKAAcQ9MQ8U3n8QoZ//NoZFoPXc0kCg2D8IAAA0gAAAAAf8KHnvl+Tz4pmIdKCVhhDo8spjiHBEfaeydr3JBYh3/O5/SmYkAaff///pq8CJj//N7saf2xqh4uQ1aKPA9BcFa9Y37UrIjgx2gKx6r51ZEY4+Yce2tRzka1AnChEDG4aZwF4gOhbF2N8tydThc1YPg5VEPgnoh5Y04X89w1aqUDYfipP8XMlkV8kzsTsJmH4pVsv6KiqBXr6PlOdTFwevnA/zrIIhplv1GxtLChcKKq4iLOM/DIOc4LC2KVnjvPVQhq//NoZKIbagsyAAQPdgAAA0gAAAAA25+aBBFk7FaO8f5zs7usIjYQc5GE/EMQxlUafPgUtDDfLnGoTwsCnOhwfohGQ1woGSO2IYoJY9Mv6v/+bl//n63FyzOqXpWOx5V8NPRIKLc19qU7KURhOtXQx7DaZZLqhng0XUr+sbLnBfM2dXVaecoK7TYriEHIuSYGggF3GOtvR6oMNWptyVN2s714z1QaZhIaiCXvEJeNzKnW1qUp+EoRsNWMjGmlOnGNDFlct7ezpRxUjU8SiTTbp+eEQ7TcTx+K//NoZIkadgs+AAQPaAAAA0gAAAAAlIoc2ztbMX9bNtCzCLkWwxC6K43CeFLGLgp1OIQwuJJR6zYdJI059nIhF06XJVnkr1afiFIQrl2hDEhRyMbOplqja2JiAyuM9lilskSc/+iJDNc72kVwrBvi5n8OsthA1WfjQo2qKdDe5wHBjjPJXBEH6eSENamVZ7HUYh1rzGulamV5BnAp38SSh/sxxrhEnHDONqSCgj04LwVrLZ1toPHvD2qcf/8nSvSWn52Q29VrfGzX//ltGRvhrM1lQ2Np/G/v//NoZHgT3dVZLT0js4AAA0gAAAAAzLR0/41iqeqIxNrsK1qWwwpW62Dsxn5giNqs0oA6fUpxTru98Z0UiqqryIZ+wQAUZdmOGDgWbtKZmIugZCCMCAGeHeRYYIKpmYXDCbOrxI90czDsgMwF85XWzHdnMhA4ySCAwTmKySmsLAJtF9qDxGJL5QjZbTTzKHPu0kTgKigSRLCNnmodWwAgOQkaIRHSQ8tAmNUAx56iwtxi/lYrVOcMIZlMDiJUNj1cylfMzlabr5S1LulUYzuxyOXVWo919Skc//NoZJwZdcVNjnMFeIAAA0gAAAAAeLFcNEhrjGrU6I/NRDIZ/aJPR4wxlZHMaJGvVM1dHK5tS7iXd2A0vwbwcLG5fo7VINK+COsa2IQGPlDdSgZmPRQoCIAcAAcZwIo8DRUAmLSSaxh41LyIBohFAZRaakWoNlDA2ValEdlruRhwKG/KJZDchxvv5RtYWEXQsdN8tmZSlU0XeeAaNmLyQJK26UErjckoaWIRkLFaqSccQfb01rXU0PrhfY1ou6n/j/VZ5hoOqCMPJPuaKax0Xf07RVqPuhCC//NoZJMYAcdDFHMIaoAAA0gAAAAAMKgKEhMKiGI5aIm81X6/Df/8Nc/ceQ5jDKDu4j+U10MpP1nNGeCZh6NdpIaLoAAAUzVU3yozxS3mK00ANuIMobox5pYFOABBhgaEyxMIGDE8LAebJElfSPFYzoTMpFw+aoF1zKwF3V7ASAs1YaSFqyNHZpmySHdVt79qbW1W1yqmdEdkdC1EqiBnW2mpj7O+n2eY0pO7QoQWRzESY3L0M+UBMcSFEhgwEKdWbWyW/9OUriisd2nugUxXCNp76VuVP7JO//NoZJYTaeVM/2HiaoAAA0gAAAAAxFQUPBXVgAAdqccrZInW0wmwWFgwumGQmAmJbWQMQRAnSLP4jMIF0Mq11NoY0109KpoCUYAURgyDTRY/aC22oC6bJWO+/D+EbdexQ3/m99xrWfTMpXk4yzVWmr7s7G6/ZauHBUjPfsj6rjoeUaOOOjSoQlLSNfb/yN0MjlloPEhYRcDFZy3Kl1+q+8s2MEUGjgZChhryCkxBTUUzLjEwMKqqqqqqqqqqqqqqqqqqqqqqqqqqqqqqqqqqqoAAVY3JPsug//NoZL0SDe9Srz0lbwAAA0gAAAAAdj54nzlYUSoG1dFO3IaAfAORRBxhynCvXtKwPYskaFD1q0Kyue1i3YTtVbQzBR0ydlWbJITMFrVrZ+Y3t/HGzh0gkPFnGninS9t1rYzV+uyOY4KPBUOzddW+ZSoZKGMpWexY1zTfTd2ROrfW5IkYwRGjjGmVjyoexHvsyp6GFpAMJNt0tsNVTEFNRTMuMTAwVVVVVVVVVVVVVVVVVVVVVVVVVVVVVVVVVVVVVVVVVVVVVVVVVVVVVVVVVVVVVVVVVVVV//NoZMsRzelOrzzFo4AAA0gAAAAAVVVVVVUIAB627bW0nkc3kb+MTj99jDvQ9D1FBDCRQbJWROHZJp1A3iRbkFndiyH7QpafIxIDR6tTnOwLmj51KMEMYWYg5FaMQt7J/M8rMj2q1P/3dERbqylOs6oRjsyOZH+2nVrvVplamm9zJ7bc6Kh18xKG+7sYra32vVTst0604Da4Ju6VTEFNRTMuMTAwVVVVVVVVVVVVVVVVVVVVVVVVVVVVVVVVVVVVVVVVVVVVVVVVVVVVVVVVVVVVVVVVVVVV//NoZL4QMedAr2GCaAAAA0gAAAAAVVVVAlrku+k8hzW4LxflEoYjS3xFFIygBYXiEiFNb1+9hXZijtSRyw0utEsCpRcDRURRfNONOOwqmBWdUKRyIOd7zh3fJN/BukRPLv1uv9KmV4q0i/z++X/MuXJsjTIsuTJJx2h22XRvcu+fzK8k5Njr/mV+FkXVPTvTxRvDjlwMwfv+G94qTEFNRTMuMTAwqqqqqqqqqqqqqqqqqqqqqqqqqqqqqqqqqqqqqqqqqqqqqqqqqqqqqqqqqqqqqqqqqqoG//NoZMAQfec6Dz0DdoAAA0gAAAAAQ8+ZiTrP3NKaxtq9B2BZSqFWpTQ8SBGizWWlAyFIapqJF9GprMV7EgVrM47cYSfbhCSwOZYAqmdwUzSwxlTQIjpXQ4rbjqqtahmtpPWYWIRAIhKHnkDAiLLSJjZUBT4GgYVcmOHpHtEROBni4rC406+kXe1utRt1z3qo1DUs7h5tux6qTQbRTEFNRTMuMTAwVVVVVVVVVVVVVVVVVVVVVVVVVVVVVVVVVVVVVVVVVVVVVVVVVVVVVVVVVVVVVVVVVVVV//NoZMQQ/KkqCWXoaAAAA0gAAAAAVVVVVVVVVVVVVVVVVVVVVTFUo3PuyGkkMhkUtvSydwltrNhDSiCocRi7hLMo0KLGpUVhPFvCLNba3KExCJRl0tdXa1pCmzjNY+V5dJuzqyOm6XUrIhmQ1ru6OiPaR3Uty5CsdSPo56LWvfRvtglCYsMB5T/sTxWJX32a1rLWjNCVFGtIulb1TEFNRTMuMTAwVVVVVVVVVVVVVVVVVVVVVVVVVVVVVVVVVVVVVVVVVVVVVVVVVVVVVVVVVVVVVVVVVVVV//NoZLMO0UEqGmEiagAAA0gAAAAAVVVVVVVVVVVVVVVVVVVVEKi7lazuFIECjzgkUEPk6KqAPSaZ9rIw4hVDUDFhQDVBQUcJ2iUCjCg4mjGyqAg2BgTGsg4IVMhi73Mxzdlbloxtq99A8ZlNiOzrAnm6/mhX6tB6dRl9jiJ1HQxzlpcbat/si2ithOFna0ZZijG95NW41bmvf//ITEFNRTMuMTAwqqqqqqqqqqqqqqqqqqqqqqqqqqqqqqqqqqqqqqqqqqqqqqqqqqqqqqqqqqqqqqqqqqqq//NoZLQO/IsoehnjQoAAA0gAAAAAqqqqqqqqqgYXSq2seCy7kY1yyvqXc7qYgSNIwri8q07Xa63aev/59PDOocZuCnpqNUSsZJq4Gwyz3lCM5VBIRP3RqlYWcMswrzbr/mbXlq/WlkI99I6HNviTy15C9tblSOHfzZS6ufl0qqGd/alnuz5JD4Xyf0//P+n0lU5IXDGdD9EbcQfVTEFNRTMuMTAwVVVVVVVVVVVVVVVVVVVVVVVVVVVVVVVVVVVVVVVVVVVVVVVVVVWiuYM4RmOrIcFWAWHa//NoZLwP5e0kajzDaoAAA0gAAAAA4nJK4x7qx9z1esSfpxNuUy1BQ5HCAg6WZWMksfBoRUWbo9HxUOMb6EyBI23xE2IM6Oq6wxyszNVggn10INx6asDSlCmRiheIcg5OQOmHpOrGwzFsyKkC0EDdmEyrVK5hgj0GDHDsO5wPtUKJSH7sVbnDN32TzrCk8iI2zS8waDRHbTfhVcmCTEFNRTMuMTAwqqqqqqqqqqqqqqqqqqqqqqqqqoFnnlAIMw4c7scFIDQpwcbMyRBSMwYN4gaHMSFX/G0w//NoZNASdd0aAGUDaIAAA0gAAAAAC2ZluF+y+2OCXYTSfqtq0M9t3HZh+pZcVQinTxjitg6qj0xWV/2AGPhmcdylwaC20QhU6KzfhIIB3BqM4zAyKBoGcCVTbyTIgzilRoxh5VDKFCCg6AA4nDQY1U64wH0MbMpglGUKGBgBkwCRvsKVqUCn7OjNWK8iEPWX/KqZptzmDMQ9O1uVj+I0BjAwMMPGI2ITDJYrMdCQGEk6lAjEAjMhEg1kljO4ffMEjEyYRlIDIBAITLpqPUqfEStv+/kgGoCg//NoZOMUzfsYAGmDWIAAA0gAAAAA7mZVcjgM2upaj5KNS8+cEtEU2bLeZo7WmXrFXUO9W3+7tt95hisv+8DdHthpj1LYzZpqBhfXM6t4Os00vjbZgY+rjv326JItptorQ0jhtO5RZnWpjjF9ftbur+VpnWpZT1m8ta+5SmVWWlnNu/996N+jDkzFRZR/X96/dNJYpmZTPn+bl/L/XbLJpTnun5bnYCTgGEpkJJWJVqOSIshNCoQyZB+zbrBkuLhziH13gkaTLwHHCHCjq4QUTQvAJUIlhek1//NoZP8aDfMYFa4wAIAAA0gBQAAAOAAGC4QT4B7mFzYctQSh04+BkBBcV8G2oSKTimQQgDDD3xawbXDfwvsNQBggADgHqXd9zRnUgBtODbcXiQ8lValr5u9a3pmBaWThaM/Z1J0zc0aTBOGjldM8fLxo5WRRTpKSY3OL1MX01okPIOMwVJgeRdmJsdJkLIPE0T7KqTTvTRWtUuGhvpppsZk+MwQQ0NzpumeRZ6ZGCPDh0niL+pv13SSRsXDRBZuak2T5OGjKQZ9luiXSHk6MiOAd5kTzGy0V//NoZPEemgc0P81MAIAAA0gBgAAArY1QXoAGUkl1+Cwn0gvyArVcnZSNGEUH8aSVCpECTSSDAcId5fvChv9wr2+YSjDDOapLNl35XTWHfht9pamBYbixMsMUzmVY0uJDEoOo90Fm/yJ93bzwu09vdSYfi7YSUQMn1L39V/Xk8Vk92/HL2H0m88rHdct54Y0+Wdzm+65/77/5/n8r5YqRiXyyWvVDcP5RmWT9yNwjKvFGdxjcbhumjGXc6+esP/////vcO/u3cs5W6mvvcqV+Z3n4ysyqQWrN//NoZL8cyf9SfufgAYAAA0gBwAAABO3sLut/3ndby/Wf5/zvNb1zWdPh29bsa3ft9zrxu3T09vlSoQAFKoADwuwUIyjOrTtAwcNBonGTEiXdlsgAJViiwJCHNTeFjyCpnHRlkKGr0oYLunok7DTp54k9X6lthaEVls689Li7Tyx6XQ0qGmW0X7bdL1W1ayEM5Qvo4treffzsZtV97zeL+WNY+sjXgm0uea7nrby3WmrTn7+7T5us/GvmYN7oaWszYowOjqaujmDWvEE96TKztTr4YxFUFYtk//NoZJsazfdAWGmIyAAAA0gAAAAAwuJiuOsS3zzNDXSJSoiOLWpUVGUcLXiwfMeHISqIochyWDoqcDQUi44n/////5+r3k6CChMK4uaoEmE1AP/sMOajTsjDhzT3VAIdIBnbGkSSzxCEFDZgI50IKOLFDUsDLhlxM0AohltmAoB7bgBe1qdk65bNJNvLVh5pTvO/ROk87uL+FAM/LJmNOLIKGAYd3QRqtdtVrVZUkvQ2s6idlqzsHoIoEEqxPPjW//fW/fGXjm0+/62U6ihOaApEbUB0WRJm//NoZIcYhfU+CGkoyIAAA0gAAAAAVmk6VhBDGUWY0WLTdIbMD4JFkO2yjHnLDHK1///X8Xe3dqpIcqDUIRxo0VX6r//////1mvVYWlkORWaGUKoACAVzdSCQbW5+SX55vJ0rSSiSyvIOgwlFdDg+ieBtpL2gIAEt1jMRcedKjAnbqTMUXbVJHjajv2ZlgJyDtjmjhwh2rGEqNaQal3i1x1ciJTTEkrTsJAmOkoWPFXP4j+q6+a+OOOIuf9v26azVJF6lYtV3q6vv6Js1yKHSJCSnrQSOfW1y//NoZIUVVfc6D2XodgAAA0gAAAAAStxHPdx/DKOhQaz05gsIRzM1fzx99/////FRE7WpImFh9HRadN2AAACEO7Kq2IzCotSqUh2ruSx0HPiUNF7EvmtmO6DFUeBGyc4K7I1djdxn7B4pP09xpCHRhsVoLixEviO10NUolIjxUmH89AeHAUCQ4SwOLWOOK3fnKj4Z2c5g0a83Pm5/l7/99vm+2ab5Nz5IOWmN5ufhpu8kE/IAHBoTNidIGjT9vtM5L/073vlCPUNF2b4OB4NTOR7IYPBoTJ4v//NoZJ0XyatAr2WLhgAAA0gAAAAA+fv2fDOcb3DwCIO0PZQNhYotvQomCdsdy59QACTVyIvF1YAAAXAJ3fbmNN2KELgqW/calFs2BuSzMCmvanIFEgG6zoewEE5gAhEvf904+b0jfYefzffo8/32cYaeP/PzgPwOhyQg8U2ZbPQ8cy0xiMcgi1kCIFRQTHrDV3czMxMQ8zDkQP2MHzVu21jIPOJFxUCAqhY4tTGkbWTESddkwMGDxo5ZaysZicRRHOaxQv+///+bhEW5PFxcfebDt//QPMTG//NoZKEUjZ1G+2WIagAAA0gAAAAA4ST9akxBTUUzLjEwMKqq1kBcjKcSb2uUaMpQ+r9dOTxWOSkWWl+5mjF6lr90OKu7gCCB4awqAKEGtOHmVMRKiD3Lxoi4kLMYiiCddiSoUUY5w8HkdbMX6o+jflUyf99KonV19/pNmnIYi6Og4titf/9HQrKwu44zjQVMPOI//SnSA0vWQMC1LrdKeumzabm1bbltlC4HoGAQIeJdAtRejdVhAw+BjEkBtF9mBgIp+DrJayg4heOxAgZImhQFCPQ0nQmx//NoZLQO9ZVe36eUAQAAA0gBQAAADj9SCqXKmWkNLmlj9VBfzqT59G4JJovsChil5gK0nZxCpc7YnX2ZdD+eGjKnj9guDJHRiEMdhyQmdiUTalxcSDw0Q9xFkVJfBL2nlhdtk3OyZW0PaWRQTUxElcJVt6zvGvP3rOLq1dRvJD2zwIlaVpNO/iRGF7H18e0t5q4ZUlNC9f9+uHsTauo0QFErKx49LRZ9sywXp3vcW2cV/9/n11IkXUWoxYBOAUJwK/tLqpJXWom/trGnHIQyGBEUlmEh3cgT//NoZP8dRcNS38e8AQAAA0gBgAAAJ1H2xt5Up8hek6yEoO15oV5dwCfZawkJMiERIJlzKMkjWlFPtzb0MQ9qs2nYtT97tveQGxV7g0jWOpxp3ze2xIyuit75fjt0FqZHfmis6uLDGv4kGP1O3IWmG9x19axEf0///xrsje+TjuGSstTgcXxoHXTuLgrG5eZY9r91O6gKydqbY0u7nWzjgVEdWNrnHY9ofPEiY04Upe3+t3nzeNnGaOWaV8fd59ay814++oIlL31l/uPjVb71h5SV0/ib89Ym//NoZNccsgtdL8e8AQAAA0gBgAAAJ4/t67vH7RHj6vn4v/5K/+tm/2shGsDFhwTChIQMJMVsY8iurCY2MCigmxZiChBdA4lXdWlch6lZDsUtA8QaMMU6pZamOVKL//3//+6/71LJ6MSpom9FMajaujMRFTQXIYxjyo8ilziC2ZkpdWRdL7/7kZFF1HM2tnVmEmk0V1LEGjQFwMWxTEFNRTMuMTAwVVVVVVVVVVVVVVVVVVVVVVVVVVVVVVVVVVVVVVVVVVVVVVVVVVVVVVVVVVVVVVVVVVVV//NoZLQO/fNvLuGUAYAAA0gBwAAAt2slttkZXHuy4sDp5G9FLyiWdwx1wSDK2SjbOKpLJk6qLLKOdKY1L2jFMlEa5VTpsVvOva13hUylXp5kfN06t0M6qjqw4SnfVrXkOHWHMWxGBzi5ALEyuJq7CA0HFRZjOaUKGqKKUUGjhZivIUTRDMmRaEvRqoy7O1vmZHFQ6bisU+1dylEVTEFNRTMuMTAwVVVVVVVVVVVVVVVVVVVVVVVVVVVVVVVVVVVVVVVVVVVVVVVVu31klskaDfpG7mSiHJsE//NoZMMQ0b1fLDDFXwAAA0gAAAAAC4ICHARYgLAyRuQCIU5dTbKN5oQLnfabTBoCMdiSKjkvPGLokJSfSJe0aL3NYPKl8zYyg9gBnQAgUSSDzrzp3WMGylu/Wkws5XKxLo369fZn08qHfT3vHZqI+pgGcpsWM8SdhISMVlFRUSuU18kIpIf3Up0aangtERtMkdiUBaVPPGSQlOqeTEFNRTMuMTAwqqqqqqqqqqqqqqqqqqrWRxORzWs+8EnzKKmgEQqga6u9jsCszSZa66AuV3oGDPhDWkml//NoZNISvUVdLWWFdwAAA0gAAAAAbm0rc3MvNLZNL5XKp+oyiKyuLw7UiEC40kqpqi0HKX0kYudKwu+y6amAMK4zg6J6RbrusOZalLUhQn429cXjjqocV6i019+85Os7M9SzLOvuX5d5ZwyhzqsrBSQGpUrAcYHSnbVqqgqHy3+J///5Zr+eX/f+7K2XAy2fV+5X06e7Xov7DU3VTEFNRTMuMTAwVVVVVVVVVVVVVVVVVVVVVVVVVVVVVVVVVVVVVVVVVVVVVVVVVVVVVVVVVVVVVVVVVVVV//NoZOgVZb9RLWGDtIAAA0gAAAAAVVVVVVVVVVVVVVVVVVVV5MSRkKOkKWth8mrF5ccWQLjHSLDZJIHCJCUJVTh2Xypc49sBhBDT2cMfTxFWxYzTtC0iRNbquTInH/9PMuhT0ZHQSMFqjUe7//9pkq1f99d17KkqLq2fVr7PUsROMtSV9swm1VZpShOgPAUwCSwmgYFXHvOi5MlcTEFNRTMuMTAwqqqqqqqqqqqqqqqqqqqqqqqqqqqqqqqqqqqqqqqqqqqqqqqqqqqqqqqqqqqEIguyE5Wi//NoZLQO/VNVHzzFeAAAA0gAAAAAJKZkPazCuch5idPMtNdfJuTyxt2kvV/I/OtJsLof3WF0tc1C1mpJx+RzCKSR1sTaIv568PGj1EV1nagz73I36YltPZQ0ilqkbjXrKupvRaW2/TdW5FOVd0s2rUVCrZnUhCO1YgBa01jOq2/V7qVndRVj929HLR5WC7DOWaIzylz177QZQWRVTEFNRTMuMTAwVVVVVVVVVVVVVVVVVVVVVVVVVVVVVVVVVVVVVVVVVVVVVVVVVVVVVVVVVVVVVVVVVVVV//NoZMoRpcdQ+2EifQAAA0gAAAAAVVVVVcAAHEsoEv/6wXFINsKYnayeqk5txvZ4j877xILKSEJgVI8uFyRTlf+kJlZNDcp27DOTISAWLuqUWesWbrNrVUmf9+77lvvERYmlN2ynkf9vXf6z0R//5u+Z0SimMxnM8qoYzrmcrQEzmc1PqX+2pX1Vm+3X7vpQzPWhjf+3VNdjBnpVTEFNRTMuMTAwVVVVVVVVVVVVVVVVVVVVVVVVVVVVVVVVVVVVVVVVVVVVVVVVVVVVVVVVVVWElG707Ul+//NoZL8QSgNIz2EibgAAA0gAAAAArMAnsXUZ9ncWubsNIS7swnQyn03ZtNulvi0a+b6poji3ijBqXBjAxStexUf6Ots7tOUSGgw1s7zMpyf//Of9+jeRnQghed/zvU75DnO4Rg7saHmQYknjDOxQ0/l4eyKeE7nhE9PTIJPlhwpMDRHDgyA4BfaECiCinoKJ2iJoZkULnvB5BnD6TEFNRapCKBqnbCALbDwRF5A9GHnVeJTKaWON0Mqi0ai1u1tkW5rPTrMZF+jb7P/rT/f/9O7Gfbp+WJ7M//NoZMoRtgFXHjxInwAAA0gAAAAAdrfqudEu5MaZDx6T19LJlo8Fg4WtnIZkgsD6LDKgjGQnsEtRm1nnE6ehiEqou0lHIZivu5zCgv3tXN7+zy1lKGcTltv5hyYNlyHcYMnqkIASo1pAqFJwv8mu01/pfSMmeV1oOWJbaC4D6QXXpWUQHPwzXl7tzLlLtquvLoCcq/LbMQhHIvWqTEFNRTMuMTAwqqqqqqqqqqqqqqqqqqqqqqqqqqqqqqqqqqqqqqqqqqqqqqqqqqqqqqqqqqqqqqqqqpLs//NoZPoXqgtPHx2Y8gAAA0gAAAAA5JbLaQWphol5CQoko84VFVjaBNZb9l81VMNU1VejsYgtFwzIiOil1c7EZn2IiJNveVs6qtCFdVdG///fT02r2HZUEQmwnY7607qlseguX29SmTCJxdOUTRx0clAtwLw6ZvRUVFZDNLbmecb7Nad237zS3Lf67P8U5h21v9G7BpI4g6PZLeoqTEFNRTMuMTAwqqqqqqqqqqqqqqqqqqqqqqqqqqqqqqqqqqqqqqqqqqqqqqqqqqqqqqqqqqqqqqqqqqqq//NoZMUREgFbLiBGq4AAA0gAAAAAqqqqqqqqqrddZrddqQ5WihiuBu39u1hhxIivfozkRzNgtwyypjKYxJuKPGqNSRntDYaRiknd1V9Ys1z1zmqwqNTP3epULZBi3S03//1bpq3FWdiIoixVAyuhhMg645DMrGEpTPEkcwl/TkxNgpfK+yv74/7fv9ctt5Np1f8LDPu7W6hz3flVTEFNRTMuMTAwVVVVVVVVVVVVVVVVVVVVVVVVVVVVVVVVVVVVVVVVVVVVVVVVVVVVVVVVDdsblksg/7eY//NoZLwP5VNbLTDFe4AAA0gAAAAAhZTAMTA2oLyUIowYKlkRM0iRJqsszTPNJSUV71ZCyPfpCqbkAw3NY4DcjBbMZXQp9rDlUZrnZ0L/////6ylXXwxyjqxUcqOeoclgROFjiQjEx82KjCBYeRhCKuIsmiociKyY+4EE2sqYeljvnKZruL7+P7+JtalGcWa6xgGMTT0OZMrnUUTqTEFNRTMuMTAwqqqqqqqqqqqqqqqqqqqqqqqqqqqqqqqqqqqqqqqqqqqqqqqqK9Vu2ug/6FuTwxHKumcr//NoZMwR9b1NLCRolwAAA0gAAAAANELgZZZIkNMGUNVh65DFrYwV58gdCSVMUlTU6NxUSr8cSzDIXnqIj0/nj////+flppog7JEaCbD2CBYeHQWARBqQHJDQYwShCYDUxBACoemi5IOKCkGpKiO5pR7EnUZJkCVCSjzGulrZts2qif474q5XU0fJNFXh0WKA2FGYfwVFQlIlh/W6AAoAhMCd2v+cI31a2/pI/ENVv7Bo1Vq2cv/34e6LzFa1vX//v1SxilleVbKmy///+xSrqnpcdZfvH/////NoZNISucs63KMgAAAAA0gBQAAA+ki/LEmqXa2WX6y3////+MthMPrrZ82CXq30tLKoe7yVRp9f/////5QkcustsvcRPGiDCBSBy6BvDL39cmZf1yatIlU3ZMJjMR////////NTypQK1CkHOWAYehMUJjTpRVw5PBq5UxW4tNgKVRpwq0urVs4Zrf/////////tZuKKQCtFiyvAwLVmbonS1t3ff1wb0JeagppVWjVqIzsNVs4zWtVQoKWqTEFNRTMuMTAwqqqqqqqqqqqqqqqqqqqqqqqq//NoZP8cadcaCcfgAIAAA0gBgAAAqqqqqqqqqqqqqqqqqqqqqqqqqqqqqqqqqqqqqqqqqqqqqqqqqqqqqqqqqqqqqqqqqqqqqqqqqqqqqqqqqqqqqqqqqqqqqqqqqqqqqqqqqqqqqqqqqqqqqqqqqqqqqqqqqqqqqqqqqqqqqqqqqqqqqqqqqqqqqqqqqqqqqqqqqqqqqqqqqqqqTEFNRTMuMTAwqqqqqqqqqqqqqqqqqqqqqqqqqqqqqqqqqqqqqqqqqqqqqqqqqqqqqqqqqqqqqqqqqqqq//NoZDwAAAGkAOAAAAAAA0gBwAAAqqqqqqqqqqqqqqqqqqqqqqqqqqqqqqqqqqqqqqqqqqqqqqqqqqqqqqqqqqqqqqqqqqqqqqqqqqqqqqqqqqqqqqqqqqqqqqqqqqqqqqqqqqqqqqqqqqqqqqqqqqqqqqqqqqqqqqqqqqqqqqqqqqqqqqqqqqqqqqqqqqqqqqqqqqqqqqqqqqqqqqqqqqqqqqqqqqqqqqqqqqqqqqqqqqqqqqqqqqqqqqqqqqqqqqqqqqqqqqqqqqqqqqqqqqqqqqqqqqqq\" type=\"audio/mpeg\"/>                        Your browser does not support the audio element.                    </audio></td>\n",
              "      <td>0.472244</td>\n",
              "      <td>0.601482</td>\n",
              "      <td>0.382840</td>\n",
              "    </tr>\n",
              "    <tr>\n",
              "      <td>neutral_2.wav</td>\n",
              "      <td><audio controls>                        <source src=\"data:audio/mpeg;base64,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\" type=\"audio/mpeg\"/>                        Your browser does not support the audio element.                    </audio></td>\n",
              "      <td>0.404989</td>\n",
              "      <td>0.553110</td>\n",
              "      <td>0.454001</td>\n",
              "    </tr>\n",
              "    <tr>\n",
              "      <td>neutral_3.wav</td>\n",
              "      <td><audio controls>                        <source src=\"data:audio/mpeg;base64,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\" type=\"audio/mpeg\"/>                        Your browser does not support the audio element.                    </audio></td>\n",
              "      <td>0.357686</td>\n",
              "      <td>0.483342</td>\n",
              "      <td>0.725264</td>\n",
              "    </tr>\n",
              "    <tr>\n",
              "      <td>neutral_4.wav</td>\n",
              "      <td><audio controls>                        <source src=\"data:audio/mpeg;base64,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\" type=\"audio/mpeg\"/>                        Your browser does not support the audio element.                    </audio></td>\n",
              "      <td>0.438549</td>\n",
              "      <td>0.538393</td>\n",
              "      <td>0.563053</td>\n",
              "    </tr>\n",
              "  </tbody>\n",
              "</table>"
            ]
          },
          "metadata": {}
        }
      ],
      "source": [
        "df_audio['audio'] = df_audio['audio'].apply(lambda x:x._repr_html_().replace('\\n', '').strip())\n",
        "df_html = df_audio.to_html(escape=False, index=False)\n",
        "ipd.display(ipd.HTML(df_html))"
      ]
    },
    {
      "cell_type": "markdown",
      "source": [
        "## Merge\n",
        "\n",
        "We will now merge the text and audio DataFrame into one."
      ],
      "metadata": {
        "id": "WDcJzw4241MM"
      }
    },
    {
      "cell_type": "code",
      "source": [
        "df[\"arousal\"] = df_audio[\"arousal\"]\n",
        "df[\"dominance\"] = df_audio[\"dominance\"]\n",
        "df[\"valence\"] = df_audio[\"valence\"]\n",
        "df"
      ],
      "metadata": {
        "colab": {
          "base_uri": "https://localhost:8080/",
          "height": 677
        },
        "id": "KuVVul-T48C1",
        "outputId": "194c2885-2378-4eeb-803d-bdeaa1bfd992"
      },
      "execution_count": 21,
      "outputs": [
        {
          "output_type": "execute_result",
          "data": {
            "text/plain": [
              "                 file                                               text  \\\n",
              "0     confusion_0.wav                This just isn't making sense to me.   \n",
              "1     confusion_1.wav                           I'm just not getting it.   \n",
              "2     confusion_2.wav          I don't think I understand what you mean.   \n",
              "3     confusion_3.wav                            Why won't the code run?   \n",
              "4     confusion_4.wav               Wait, so what are you talking about?   \n",
              "5        eureka_0.wav                                      Aha, finally!   \n",
              "6        eureka_1.wav               Ohhh, yeah that makes so much sense!   \n",
              "7        eureka_2.wav                           Of course, now I get it!   \n",
              "8        eureka_3.wav                                  That was so easy!   \n",
              "9        eureka_4.wav  I can't believe I didn't figure that out earli...   \n",
              "10  frustration_0.wav                       Ugh, what is going on here?!   \n",
              "11  frustration_1.wav                I don't know why this is happening!   \n",
              "12  frustration_2.wav                           This thing is so stupid!   \n",
              "13  frustration_3.wav                      Why can't I figure this out?!   \n",
              "14  frustration_4.wav                      There's not a bug in my code!   \n",
              "15      neutral_0.wav                                          I'm okay.   \n",
              "16      neutral_1.wav                            Sure, that makes sense.   \n",
              "17      neutral_2.wav                                 I feel ambivalent.   \n",
              "18      neutral_3.wav                                  Hmm, interesting.   \n",
              "19      neutral_4.wav                                  Yeah, that works.   \n",
              "\n",
              "     arousal  dominance   valence  \n",
              "0   0.491061   0.579337  0.199595  \n",
              "1   0.496632   0.564744  0.250415  \n",
              "2   0.340029   0.463059  0.223187  \n",
              "3   0.476211   0.533171  0.327067  \n",
              "4   0.452598   0.498192  0.518139  \n",
              "5   0.779292   0.827495  0.942782  \n",
              "6   0.614347   0.624977  0.468896  \n",
              "7   0.594661   0.659573  0.474535  \n",
              "8   0.732855   0.750316  0.576097  \n",
              "9   0.644227   0.692528  0.307335  \n",
              "10  0.602840   0.632980  0.336647  \n",
              "11  0.769080   0.785554  0.079431  \n",
              "12  0.767750   0.817618 -0.037478  \n",
              "13  0.787266   0.793390  0.289535  \n",
              "14  0.821397   0.844301  0.094211  \n",
              "15  0.449995   0.490016  0.674121  \n",
              "16  0.472244   0.601482  0.382840  \n",
              "17  0.404989   0.553110  0.454001  \n",
              "18  0.357686   0.483342  0.725264  \n",
              "19  0.438549   0.538393  0.563053  "
            ],
            "text/html": [
              "\n",
              "  <div id=\"df-a6ea4537-6c54-4d29-a7c0-4deba140647b\">\n",
              "    <div class=\"colab-df-container\">\n",
              "      <div>\n",
              "<style scoped>\n",
              "    .dataframe tbody tr th:only-of-type {\n",
              "        vertical-align: middle;\n",
              "    }\n",
              "\n",
              "    .dataframe tbody tr th {\n",
              "        vertical-align: top;\n",
              "    }\n",
              "\n",
              "    .dataframe thead th {\n",
              "        text-align: right;\n",
              "    }\n",
              "</style>\n",
              "<table border=\"1\" class=\"dataframe\">\n",
              "  <thead>\n",
              "    <tr style=\"text-align: right;\">\n",
              "      <th></th>\n",
              "      <th>file</th>\n",
              "      <th>text</th>\n",
              "      <th>arousal</th>\n",
              "      <th>dominance</th>\n",
              "      <th>valence</th>\n",
              "    </tr>\n",
              "  </thead>\n",
              "  <tbody>\n",
              "    <tr>\n",
              "      <th>0</th>\n",
              "      <td>confusion_0.wav</td>\n",
              "      <td>This just isn't making sense to me.</td>\n",
              "      <td>0.491061</td>\n",
              "      <td>0.579337</td>\n",
              "      <td>0.199595</td>\n",
              "    </tr>\n",
              "    <tr>\n",
              "      <th>1</th>\n",
              "      <td>confusion_1.wav</td>\n",
              "      <td>I'm just not getting it.</td>\n",
              "      <td>0.496632</td>\n",
              "      <td>0.564744</td>\n",
              "      <td>0.250415</td>\n",
              "    </tr>\n",
              "    <tr>\n",
              "      <th>2</th>\n",
              "      <td>confusion_2.wav</td>\n",
              "      <td>I don't think I understand what you mean.</td>\n",
              "      <td>0.340029</td>\n",
              "      <td>0.463059</td>\n",
              "      <td>0.223187</td>\n",
              "    </tr>\n",
              "    <tr>\n",
              "      <th>3</th>\n",
              "      <td>confusion_3.wav</td>\n",
              "      <td>Why won't the code run?</td>\n",
              "      <td>0.476211</td>\n",
              "      <td>0.533171</td>\n",
              "      <td>0.327067</td>\n",
              "    </tr>\n",
              "    <tr>\n",
              "      <th>4</th>\n",
              "      <td>confusion_4.wav</td>\n",
              "      <td>Wait, so what are you talking about?</td>\n",
              "      <td>0.452598</td>\n",
              "      <td>0.498192</td>\n",
              "      <td>0.518139</td>\n",
              "    </tr>\n",
              "    <tr>\n",
              "      <th>5</th>\n",
              "      <td>eureka_0.wav</td>\n",
              "      <td>Aha, finally!</td>\n",
              "      <td>0.779292</td>\n",
              "      <td>0.827495</td>\n",
              "      <td>0.942782</td>\n",
              "    </tr>\n",
              "    <tr>\n",
              "      <th>6</th>\n",
              "      <td>eureka_1.wav</td>\n",
              "      <td>Ohhh, yeah that makes so much sense!</td>\n",
              "      <td>0.614347</td>\n",
              "      <td>0.624977</td>\n",
              "      <td>0.468896</td>\n",
              "    </tr>\n",
              "    <tr>\n",
              "      <th>7</th>\n",
              "      <td>eureka_2.wav</td>\n",
              "      <td>Of course, now I get it!</td>\n",
              "      <td>0.594661</td>\n",
              "      <td>0.659573</td>\n",
              "      <td>0.474535</td>\n",
              "    </tr>\n",
              "    <tr>\n",
              "      <th>8</th>\n",
              "      <td>eureka_3.wav</td>\n",
              "      <td>That was so easy!</td>\n",
              "      <td>0.732855</td>\n",
              "      <td>0.750316</td>\n",
              "      <td>0.576097</td>\n",
              "    </tr>\n",
              "    <tr>\n",
              "      <th>9</th>\n",
              "      <td>eureka_4.wav</td>\n",
              "      <td>I can't believe I didn't figure that out earli...</td>\n",
              "      <td>0.644227</td>\n",
              "      <td>0.692528</td>\n",
              "      <td>0.307335</td>\n",
              "    </tr>\n",
              "    <tr>\n",
              "      <th>10</th>\n",
              "      <td>frustration_0.wav</td>\n",
              "      <td>Ugh, what is going on here?!</td>\n",
              "      <td>0.602840</td>\n",
              "      <td>0.632980</td>\n",
              "      <td>0.336647</td>\n",
              "    </tr>\n",
              "    <tr>\n",
              "      <th>11</th>\n",
              "      <td>frustration_1.wav</td>\n",
              "      <td>I don't know why this is happening!</td>\n",
              "      <td>0.769080</td>\n",
              "      <td>0.785554</td>\n",
              "      <td>0.079431</td>\n",
              "    </tr>\n",
              "    <tr>\n",
              "      <th>12</th>\n",
              "      <td>frustration_2.wav</td>\n",
              "      <td>This thing is so stupid!</td>\n",
              "      <td>0.767750</td>\n",
              "      <td>0.817618</td>\n",
              "      <td>-0.037478</td>\n",
              "    </tr>\n",
              "    <tr>\n",
              "      <th>13</th>\n",
              "      <td>frustration_3.wav</td>\n",
              "      <td>Why can't I figure this out?!</td>\n",
              "      <td>0.787266</td>\n",
              "      <td>0.793390</td>\n",
              "      <td>0.289535</td>\n",
              "    </tr>\n",
              "    <tr>\n",
              "      <th>14</th>\n",
              "      <td>frustration_4.wav</td>\n",
              "      <td>There's not a bug in my code!</td>\n",
              "      <td>0.821397</td>\n",
              "      <td>0.844301</td>\n",
              "      <td>0.094211</td>\n",
              "    </tr>\n",
              "    <tr>\n",
              "      <th>15</th>\n",
              "      <td>neutral_0.wav</td>\n",
              "      <td>I'm okay.</td>\n",
              "      <td>0.449995</td>\n",
              "      <td>0.490016</td>\n",
              "      <td>0.674121</td>\n",
              "    </tr>\n",
              "    <tr>\n",
              "      <th>16</th>\n",
              "      <td>neutral_1.wav</td>\n",
              "      <td>Sure, that makes sense.</td>\n",
              "      <td>0.472244</td>\n",
              "      <td>0.601482</td>\n",
              "      <td>0.382840</td>\n",
              "    </tr>\n",
              "    <tr>\n",
              "      <th>17</th>\n",
              "      <td>neutral_2.wav</td>\n",
              "      <td>I feel ambivalent.</td>\n",
              "      <td>0.404989</td>\n",
              "      <td>0.553110</td>\n",
              "      <td>0.454001</td>\n",
              "    </tr>\n",
              "    <tr>\n",
              "      <th>18</th>\n",
              "      <td>neutral_3.wav</td>\n",
              "      <td>Hmm, interesting.</td>\n",
              "      <td>0.357686</td>\n",
              "      <td>0.483342</td>\n",
              "      <td>0.725264</td>\n",
              "    </tr>\n",
              "    <tr>\n",
              "      <th>19</th>\n",
              "      <td>neutral_4.wav</td>\n",
              "      <td>Yeah, that works.</td>\n",
              "      <td>0.438549</td>\n",
              "      <td>0.538393</td>\n",
              "      <td>0.563053</td>\n",
              "    </tr>\n",
              "  </tbody>\n",
              "</table>\n",
              "</div>\n",
              "      <button class=\"colab-df-convert\" onclick=\"convertToInteractive('df-a6ea4537-6c54-4d29-a7c0-4deba140647b')\"\n",
              "              title=\"Convert this dataframe to an interactive table.\"\n",
              "              style=\"display:none;\">\n",
              "        \n",
              "  <svg xmlns=\"http://www.w3.org/2000/svg\" height=\"24px\"viewBox=\"0 0 24 24\"\n",
              "       width=\"24px\">\n",
              "    <path d=\"M0 0h24v24H0V0z\" fill=\"none\"/>\n",
              "    <path d=\"M18.56 5.44l.94 2.06.94-2.06 2.06-.94-2.06-.94-.94-2.06-.94 2.06-2.06.94zm-11 1L8.5 8.5l.94-2.06 2.06-.94-2.06-.94L8.5 2.5l-.94 2.06-2.06.94zm10 10l.94 2.06.94-2.06 2.06-.94-2.06-.94-.94-2.06-.94 2.06-2.06.94z\"/><path d=\"M17.41 7.96l-1.37-1.37c-.4-.4-.92-.59-1.43-.59-.52 0-1.04.2-1.43.59L10.3 9.45l-7.72 7.72c-.78.78-.78 2.05 0 2.83L4 21.41c.39.39.9.59 1.41.59.51 0 1.02-.2 1.41-.59l7.78-7.78 2.81-2.81c.8-.78.8-2.07 0-2.86zM5.41 20L4 18.59l7.72-7.72 1.47 1.35L5.41 20z\"/>\n",
              "  </svg>\n",
              "      </button>\n",
              "      \n",
              "  <style>\n",
              "    .colab-df-container {\n",
              "      display:flex;\n",
              "      flex-wrap:wrap;\n",
              "      gap: 12px;\n",
              "    }\n",
              "\n",
              "    .colab-df-convert {\n",
              "      background-color: #E8F0FE;\n",
              "      border: none;\n",
              "      border-radius: 50%;\n",
              "      cursor: pointer;\n",
              "      display: none;\n",
              "      fill: #1967D2;\n",
              "      height: 32px;\n",
              "      padding: 0 0 0 0;\n",
              "      width: 32px;\n",
              "    }\n",
              "\n",
              "    .colab-df-convert:hover {\n",
              "      background-color: #E2EBFA;\n",
              "      box-shadow: 0px 1px 2px rgba(60, 64, 67, 0.3), 0px 1px 3px 1px rgba(60, 64, 67, 0.15);\n",
              "      fill: #174EA6;\n",
              "    }\n",
              "\n",
              "    [theme=dark] .colab-df-convert {\n",
              "      background-color: #3B4455;\n",
              "      fill: #D2E3FC;\n",
              "    }\n",
              "\n",
              "    [theme=dark] .colab-df-convert:hover {\n",
              "      background-color: #434B5C;\n",
              "      box-shadow: 0px 1px 3px 1px rgba(0, 0, 0, 0.15);\n",
              "      filter: drop-shadow(0px 1px 2px rgba(0, 0, 0, 0.3));\n",
              "      fill: #FFFFFF;\n",
              "    }\n",
              "  </style>\n",
              "\n",
              "      <script>\n",
              "        const buttonEl =\n",
              "          document.querySelector('#df-a6ea4537-6c54-4d29-a7c0-4deba140647b button.colab-df-convert');\n",
              "        buttonEl.style.display =\n",
              "          google.colab.kernel.accessAllowed ? 'block' : 'none';\n",
              "\n",
              "        async function convertToInteractive(key) {\n",
              "          const element = document.querySelector('#df-a6ea4537-6c54-4d29-a7c0-4deba140647b');\n",
              "          const dataTable =\n",
              "            await google.colab.kernel.invokeFunction('convertToInteractive',\n",
              "                                                     [key], {});\n",
              "          if (!dataTable) return;\n",
              "\n",
              "          const docLinkHtml = 'Like what you see? Visit the ' +\n",
              "            '<a target=\"_blank\" href=https://colab.research.google.com/notebooks/data_table.ipynb>data table notebook</a>'\n",
              "            + ' to learn more about interactive tables.';\n",
              "          element.innerHTML = '';\n",
              "          dataTable['output_type'] = 'display_data';\n",
              "          await google.colab.output.renderOutput(dataTable, element);\n",
              "          const docLink = document.createElement('div');\n",
              "          docLink.innerHTML = docLinkHtml;\n",
              "          element.appendChild(docLink);\n",
              "        }\n",
              "      </script>\n",
              "    </div>\n",
              "  </div>\n",
              "  "
            ]
          },
          "metadata": {},
          "execution_count": 21
        }
      ]
    },
    {
      "cell_type": "markdown",
      "source": [
        "Add the labels for classification later."
      ],
      "metadata": {
        "id": "720_ENmbc2D0"
      }
    },
    {
      "cell_type": "code",
      "source": [
        "df[\"label\"] = df[\"file\"].str.slice(0,-6)\n",
        "df"
      ],
      "metadata": {
        "colab": {
          "base_uri": "https://localhost:8080/",
          "height": 677
        },
        "id": "OQFovTvZc53I",
        "outputId": "df647f1f-8bcc-4f14-b44e-93bbd033e625"
      },
      "execution_count": 22,
      "outputs": [
        {
          "output_type": "execute_result",
          "data": {
            "text/plain": [
              "                 file                                               text  \\\n",
              "0     confusion_0.wav                This just isn't making sense to me.   \n",
              "1     confusion_1.wav                           I'm just not getting it.   \n",
              "2     confusion_2.wav          I don't think I understand what you mean.   \n",
              "3     confusion_3.wav                            Why won't the code run?   \n",
              "4     confusion_4.wav               Wait, so what are you talking about?   \n",
              "5        eureka_0.wav                                      Aha, finally!   \n",
              "6        eureka_1.wav               Ohhh, yeah that makes so much sense!   \n",
              "7        eureka_2.wav                           Of course, now I get it!   \n",
              "8        eureka_3.wav                                  That was so easy!   \n",
              "9        eureka_4.wav  I can't believe I didn't figure that out earli...   \n",
              "10  frustration_0.wav                       Ugh, what is going on here?!   \n",
              "11  frustration_1.wav                I don't know why this is happening!   \n",
              "12  frustration_2.wav                           This thing is so stupid!   \n",
              "13  frustration_3.wav                      Why can't I figure this out?!   \n",
              "14  frustration_4.wav                      There's not a bug in my code!   \n",
              "15      neutral_0.wav                                          I'm okay.   \n",
              "16      neutral_1.wav                            Sure, that makes sense.   \n",
              "17      neutral_2.wav                                 I feel ambivalent.   \n",
              "18      neutral_3.wav                                  Hmm, interesting.   \n",
              "19      neutral_4.wav                                  Yeah, that works.   \n",
              "\n",
              "     arousal  dominance   valence        label  \n",
              "0   0.491061   0.579337  0.199595    confusion  \n",
              "1   0.496632   0.564744  0.250415    confusion  \n",
              "2   0.340029   0.463059  0.223187    confusion  \n",
              "3   0.476211   0.533171  0.327067    confusion  \n",
              "4   0.452598   0.498192  0.518139    confusion  \n",
              "5   0.779292   0.827495  0.942782       eureka  \n",
              "6   0.614347   0.624977  0.468896       eureka  \n",
              "7   0.594661   0.659573  0.474535       eureka  \n",
              "8   0.732855   0.750316  0.576097       eureka  \n",
              "9   0.644227   0.692528  0.307335       eureka  \n",
              "10  0.602840   0.632980  0.336647  frustration  \n",
              "11  0.769080   0.785554  0.079431  frustration  \n",
              "12  0.767750   0.817618 -0.037478  frustration  \n",
              "13  0.787266   0.793390  0.289535  frustration  \n",
              "14  0.821397   0.844301  0.094211  frustration  \n",
              "15  0.449995   0.490016  0.674121      neutral  \n",
              "16  0.472244   0.601482  0.382840      neutral  \n",
              "17  0.404989   0.553110  0.454001      neutral  \n",
              "18  0.357686   0.483342  0.725264      neutral  \n",
              "19  0.438549   0.538393  0.563053      neutral  "
            ],
            "text/html": [
              "\n",
              "  <div id=\"df-a49e03d3-bf45-4a73-9639-4c5f5cde8b01\">\n",
              "    <div class=\"colab-df-container\">\n",
              "      <div>\n",
              "<style scoped>\n",
              "    .dataframe tbody tr th:only-of-type {\n",
              "        vertical-align: middle;\n",
              "    }\n",
              "\n",
              "    .dataframe tbody tr th {\n",
              "        vertical-align: top;\n",
              "    }\n",
              "\n",
              "    .dataframe thead th {\n",
              "        text-align: right;\n",
              "    }\n",
              "</style>\n",
              "<table border=\"1\" class=\"dataframe\">\n",
              "  <thead>\n",
              "    <tr style=\"text-align: right;\">\n",
              "      <th></th>\n",
              "      <th>file</th>\n",
              "      <th>text</th>\n",
              "      <th>arousal</th>\n",
              "      <th>dominance</th>\n",
              "      <th>valence</th>\n",
              "      <th>label</th>\n",
              "    </tr>\n",
              "  </thead>\n",
              "  <tbody>\n",
              "    <tr>\n",
              "      <th>0</th>\n",
              "      <td>confusion_0.wav</td>\n",
              "      <td>This just isn't making sense to me.</td>\n",
              "      <td>0.491061</td>\n",
              "      <td>0.579337</td>\n",
              "      <td>0.199595</td>\n",
              "      <td>confusion</td>\n",
              "    </tr>\n",
              "    <tr>\n",
              "      <th>1</th>\n",
              "      <td>confusion_1.wav</td>\n",
              "      <td>I'm just not getting it.</td>\n",
              "      <td>0.496632</td>\n",
              "      <td>0.564744</td>\n",
              "      <td>0.250415</td>\n",
              "      <td>confusion</td>\n",
              "    </tr>\n",
              "    <tr>\n",
              "      <th>2</th>\n",
              "      <td>confusion_2.wav</td>\n",
              "      <td>I don't think I understand what you mean.</td>\n",
              "      <td>0.340029</td>\n",
              "      <td>0.463059</td>\n",
              "      <td>0.223187</td>\n",
              "      <td>confusion</td>\n",
              "    </tr>\n",
              "    <tr>\n",
              "      <th>3</th>\n",
              "      <td>confusion_3.wav</td>\n",
              "      <td>Why won't the code run?</td>\n",
              "      <td>0.476211</td>\n",
              "      <td>0.533171</td>\n",
              "      <td>0.327067</td>\n",
              "      <td>confusion</td>\n",
              "    </tr>\n",
              "    <tr>\n",
              "      <th>4</th>\n",
              "      <td>confusion_4.wav</td>\n",
              "      <td>Wait, so what are you talking about?</td>\n",
              "      <td>0.452598</td>\n",
              "      <td>0.498192</td>\n",
              "      <td>0.518139</td>\n",
              "      <td>confusion</td>\n",
              "    </tr>\n",
              "    <tr>\n",
              "      <th>5</th>\n",
              "      <td>eureka_0.wav</td>\n",
              "      <td>Aha, finally!</td>\n",
              "      <td>0.779292</td>\n",
              "      <td>0.827495</td>\n",
              "      <td>0.942782</td>\n",
              "      <td>eureka</td>\n",
              "    </tr>\n",
              "    <tr>\n",
              "      <th>6</th>\n",
              "      <td>eureka_1.wav</td>\n",
              "      <td>Ohhh, yeah that makes so much sense!</td>\n",
              "      <td>0.614347</td>\n",
              "      <td>0.624977</td>\n",
              "      <td>0.468896</td>\n",
              "      <td>eureka</td>\n",
              "    </tr>\n",
              "    <tr>\n",
              "      <th>7</th>\n",
              "      <td>eureka_2.wav</td>\n",
              "      <td>Of course, now I get it!</td>\n",
              "      <td>0.594661</td>\n",
              "      <td>0.659573</td>\n",
              "      <td>0.474535</td>\n",
              "      <td>eureka</td>\n",
              "    </tr>\n",
              "    <tr>\n",
              "      <th>8</th>\n",
              "      <td>eureka_3.wav</td>\n",
              "      <td>That was so easy!</td>\n",
              "      <td>0.732855</td>\n",
              "      <td>0.750316</td>\n",
              "      <td>0.576097</td>\n",
              "      <td>eureka</td>\n",
              "    </tr>\n",
              "    <tr>\n",
              "      <th>9</th>\n",
              "      <td>eureka_4.wav</td>\n",
              "      <td>I can't believe I didn't figure that out earli...</td>\n",
              "      <td>0.644227</td>\n",
              "      <td>0.692528</td>\n",
              "      <td>0.307335</td>\n",
              "      <td>eureka</td>\n",
              "    </tr>\n",
              "    <tr>\n",
              "      <th>10</th>\n",
              "      <td>frustration_0.wav</td>\n",
              "      <td>Ugh, what is going on here?!</td>\n",
              "      <td>0.602840</td>\n",
              "      <td>0.632980</td>\n",
              "      <td>0.336647</td>\n",
              "      <td>frustration</td>\n",
              "    </tr>\n",
              "    <tr>\n",
              "      <th>11</th>\n",
              "      <td>frustration_1.wav</td>\n",
              "      <td>I don't know why this is happening!</td>\n",
              "      <td>0.769080</td>\n",
              "      <td>0.785554</td>\n",
              "      <td>0.079431</td>\n",
              "      <td>frustration</td>\n",
              "    </tr>\n",
              "    <tr>\n",
              "      <th>12</th>\n",
              "      <td>frustration_2.wav</td>\n",
              "      <td>This thing is so stupid!</td>\n",
              "      <td>0.767750</td>\n",
              "      <td>0.817618</td>\n",
              "      <td>-0.037478</td>\n",
              "      <td>frustration</td>\n",
              "    </tr>\n",
              "    <tr>\n",
              "      <th>13</th>\n",
              "      <td>frustration_3.wav</td>\n",
              "      <td>Why can't I figure this out?!</td>\n",
              "      <td>0.787266</td>\n",
              "      <td>0.793390</td>\n",
              "      <td>0.289535</td>\n",
              "      <td>frustration</td>\n",
              "    </tr>\n",
              "    <tr>\n",
              "      <th>14</th>\n",
              "      <td>frustration_4.wav</td>\n",
              "      <td>There's not a bug in my code!</td>\n",
              "      <td>0.821397</td>\n",
              "      <td>0.844301</td>\n",
              "      <td>0.094211</td>\n",
              "      <td>frustration</td>\n",
              "    </tr>\n",
              "    <tr>\n",
              "      <th>15</th>\n",
              "      <td>neutral_0.wav</td>\n",
              "      <td>I'm okay.</td>\n",
              "      <td>0.449995</td>\n",
              "      <td>0.490016</td>\n",
              "      <td>0.674121</td>\n",
              "      <td>neutral</td>\n",
              "    </tr>\n",
              "    <tr>\n",
              "      <th>16</th>\n",
              "      <td>neutral_1.wav</td>\n",
              "      <td>Sure, that makes sense.</td>\n",
              "      <td>0.472244</td>\n",
              "      <td>0.601482</td>\n",
              "      <td>0.382840</td>\n",
              "      <td>neutral</td>\n",
              "    </tr>\n",
              "    <tr>\n",
              "      <th>17</th>\n",
              "      <td>neutral_2.wav</td>\n",
              "      <td>I feel ambivalent.</td>\n",
              "      <td>0.404989</td>\n",
              "      <td>0.553110</td>\n",
              "      <td>0.454001</td>\n",
              "      <td>neutral</td>\n",
              "    </tr>\n",
              "    <tr>\n",
              "      <th>18</th>\n",
              "      <td>neutral_3.wav</td>\n",
              "      <td>Hmm, interesting.</td>\n",
              "      <td>0.357686</td>\n",
              "      <td>0.483342</td>\n",
              "      <td>0.725264</td>\n",
              "      <td>neutral</td>\n",
              "    </tr>\n",
              "    <tr>\n",
              "      <th>19</th>\n",
              "      <td>neutral_4.wav</td>\n",
              "      <td>Yeah, that works.</td>\n",
              "      <td>0.438549</td>\n",
              "      <td>0.538393</td>\n",
              "      <td>0.563053</td>\n",
              "      <td>neutral</td>\n",
              "    </tr>\n",
              "  </tbody>\n",
              "</table>\n",
              "</div>\n",
              "      <button class=\"colab-df-convert\" onclick=\"convertToInteractive('df-a49e03d3-bf45-4a73-9639-4c5f5cde8b01')\"\n",
              "              title=\"Convert this dataframe to an interactive table.\"\n",
              "              style=\"display:none;\">\n",
              "        \n",
              "  <svg xmlns=\"http://www.w3.org/2000/svg\" height=\"24px\"viewBox=\"0 0 24 24\"\n",
              "       width=\"24px\">\n",
              "    <path d=\"M0 0h24v24H0V0z\" fill=\"none\"/>\n",
              "    <path d=\"M18.56 5.44l.94 2.06.94-2.06 2.06-.94-2.06-.94-.94-2.06-.94 2.06-2.06.94zm-11 1L8.5 8.5l.94-2.06 2.06-.94-2.06-.94L8.5 2.5l-.94 2.06-2.06.94zm10 10l.94 2.06.94-2.06 2.06-.94-2.06-.94-.94-2.06-.94 2.06-2.06.94z\"/><path d=\"M17.41 7.96l-1.37-1.37c-.4-.4-.92-.59-1.43-.59-.52 0-1.04.2-1.43.59L10.3 9.45l-7.72 7.72c-.78.78-.78 2.05 0 2.83L4 21.41c.39.39.9.59 1.41.59.51 0 1.02-.2 1.41-.59l7.78-7.78 2.81-2.81c.8-.78.8-2.07 0-2.86zM5.41 20L4 18.59l7.72-7.72 1.47 1.35L5.41 20z\"/>\n",
              "  </svg>\n",
              "      </button>\n",
              "      \n",
              "  <style>\n",
              "    .colab-df-container {\n",
              "      display:flex;\n",
              "      flex-wrap:wrap;\n",
              "      gap: 12px;\n",
              "    }\n",
              "\n",
              "    .colab-df-convert {\n",
              "      background-color: #E8F0FE;\n",
              "      border: none;\n",
              "      border-radius: 50%;\n",
              "      cursor: pointer;\n",
              "      display: none;\n",
              "      fill: #1967D2;\n",
              "      height: 32px;\n",
              "      padding: 0 0 0 0;\n",
              "      width: 32px;\n",
              "    }\n",
              "\n",
              "    .colab-df-convert:hover {\n",
              "      background-color: #E2EBFA;\n",
              "      box-shadow: 0px 1px 2px rgba(60, 64, 67, 0.3), 0px 1px 3px 1px rgba(60, 64, 67, 0.15);\n",
              "      fill: #174EA6;\n",
              "    }\n",
              "\n",
              "    [theme=dark] .colab-df-convert {\n",
              "      background-color: #3B4455;\n",
              "      fill: #D2E3FC;\n",
              "    }\n",
              "\n",
              "    [theme=dark] .colab-df-convert:hover {\n",
              "      background-color: #434B5C;\n",
              "      box-shadow: 0px 1px 3px 1px rgba(0, 0, 0, 0.15);\n",
              "      filter: drop-shadow(0px 1px 2px rgba(0, 0, 0, 0.3));\n",
              "      fill: #FFFFFF;\n",
              "    }\n",
              "  </style>\n",
              "\n",
              "      <script>\n",
              "        const buttonEl =\n",
              "          document.querySelector('#df-a49e03d3-bf45-4a73-9639-4c5f5cde8b01 button.colab-df-convert');\n",
              "        buttonEl.style.display =\n",
              "          google.colab.kernel.accessAllowed ? 'block' : 'none';\n",
              "\n",
              "        async function convertToInteractive(key) {\n",
              "          const element = document.querySelector('#df-a49e03d3-bf45-4a73-9639-4c5f5cde8b01');\n",
              "          const dataTable =\n",
              "            await google.colab.kernel.invokeFunction('convertToInteractive',\n",
              "                                                     [key], {});\n",
              "          if (!dataTable) return;\n",
              "\n",
              "          const docLinkHtml = 'Like what you see? Visit the ' +\n",
              "            '<a target=\"_blank\" href=https://colab.research.google.com/notebooks/data_table.ipynb>data table notebook</a>'\n",
              "            + ' to learn more about interactive tables.';\n",
              "          element.innerHTML = '';\n",
              "          dataTable['output_type'] = 'display_data';\n",
              "          await google.colab.output.renderOutput(dataTable, element);\n",
              "          const docLink = document.createElement('div');\n",
              "          docLink.innerHTML = docLinkHtml;\n",
              "          element.appendChild(docLink);\n",
              "        }\n",
              "      </script>\n",
              "    </div>\n",
              "  </div>\n",
              "  "
            ]
          },
          "metadata": {},
          "execution_count": 22
        }
      ]
    },
    {
      "cell_type": "markdown",
      "source": [
        "Confirm four distinct labels."
      ],
      "metadata": {
        "id": "RmEseYy8d5i0"
      }
    },
    {
      "cell_type": "code",
      "source": [
        "assert set(df[\"label\"]) == {\"confusion\", \"eureka\", \"frustration\", \"neutral\"}"
      ],
      "metadata": {
        "id": "NWM1B4wyd8Te"
      },
      "execution_count": 23,
      "outputs": []
    },
    {
      "cell_type": "markdown",
      "source": [
        "## Save"
      ],
      "metadata": {
        "id": "PPpFs7nP6Nx4"
      }
    },
    {
      "cell_type": "code",
      "source": [
        "OUT_FILE = \"drive/My Drive/DS5899_Transformers/emotions.csv\""
      ],
      "metadata": {
        "id": "gF-F5fRJ6Ss8"
      },
      "execution_count": 24,
      "outputs": []
    },
    {
      "cell_type": "code",
      "source": [
        "df.to_csv(path_or_buf=OUT_FILE, index=False, encoding='utf-8')"
      ],
      "metadata": {
        "id": "0Nhdaioe6b1c"
      },
      "execution_count": 25,
      "outputs": []
    }
  ]
}